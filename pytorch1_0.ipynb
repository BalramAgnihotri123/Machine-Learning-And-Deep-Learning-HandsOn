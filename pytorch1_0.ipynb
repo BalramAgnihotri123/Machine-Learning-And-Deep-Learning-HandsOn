{
  "cells": [
    {
      "cell_type": "markdown",
      "metadata": {
        "id": "view-in-github",
        "colab_type": "text"
      },
      "source": [
        "<a href=\"https://colab.research.google.com/github/BalramAgnihotri123/Machine-Learning-And-Deep-Learning-HandsOn/blob/main/pytorch1_0.ipynb\" target=\"_parent\"><img src=\"https://colab.research.google.com/assets/colab-badge.svg\" alt=\"Open In Colab\"/></a>"
      ]
    },
    {
      "cell_type": "code",
      "execution_count": 27,
      "metadata": {
        "colab": {
          "base_uri": "https://localhost:8080/"
        },
        "id": "Z5cHU-v10nhC",
        "outputId": "93b75763-a2ac-429c-dc96-a0907f2d7a6a"
      },
      "outputs": [
        {
          "output_type": "stream",
          "name": "stdout",
          "text": [
            "1.12.1+cu113\n"
          ]
        }
      ],
      "source": [
        "import torch\n",
        "from torch import nn ## it contains all of torch's building blocks\n",
        "import matplotlib.pyplot as plt\n",
        "import pandas as pd\n",
        "import numpy as np\n",
        "import seaborn as sns \n",
        "print(torch.__version__)"
      ]
    },
    {
      "cell_type": "markdown",
      "metadata": {
        "id": "0s_Z3Fun1pLZ"
      },
      "source": [
        "### 1.Data:- Preparing and Loading\n",
        "\n",
        "` Data can be of any form :-`\n",
        "1. `images`\n",
        "2. `voice/audio`\n",
        "3. `vidoes`\n",
        "4. `text`\n",
        "  "
      ]
    },
    {
      "cell_type": "code",
      "execution_count": 28,
      "metadata": {
        "id": "1jCUosEpqi0b"
      },
      "outputs": [],
      "source": [
        "weight = 0.9\n",
        "bias = 0.5\n",
        "start = 0.0\n",
        "end = 1.0\n",
        "step  =  0.02\n",
        "X = torch.arange(start,end,step).unsqueeze(dim=1)\n",
        "y = weight*X +bias"
      ]
    },
    {
      "cell_type": "code",
      "execution_count": 29,
      "metadata": {
        "id": "XPDU80gGtPw_"
      },
      "outputs": [],
      "source": [
        "from  sklearn.model_selection import train_test_split\n",
        "X_train,X_test,y_train,y_test = train_test_split(X,y,random_state = 42,test_size = 0.2)"
      ]
    },
    {
      "cell_type": "code",
      "execution_count": 30,
      "metadata": {
        "colab": {
          "base_uri": "https://localhost:8080/",
          "height": 428
        },
        "id": "_1bGdis4vmL7",
        "outputId": "ddd55b20-425c-42cb-b067-86d82f1f0461"
      },
      "outputs": [
        {
          "output_type": "display_data",
          "data": {
            "text/plain": [
              "<Figure size 720x504 with 1 Axes>"
            ],
            "image/png": "[encoded data removed]"
          },
          "metadata": {
            "needs_background": "light"
          }
        }
      ],
      "source": [
        "plt.figure(figsize =(10,7))\n",
        "plt.scatter(X,y)\n",
        "\n",
        "plt.show()"
      ]
    },
    {
      "cell_type": "markdown",
      "metadata": {
        "id": "9s4_qthlBZ6a"
      },
      "source": [
        "## 2. Initializing the model"
      ]
    },
    {
      "cell_type": "code",
      "execution_count": 31,
      "metadata": {
        "id": "s64xRmR5wNDZ"
      },
      "outputs": [],
      "source": [
        "# Creating a sub-class of nn.Module and defining the parameters i.e, weights and biases along with that we overwright the forward function.\n",
        "\n",
        "class LinearRegressionModel(nn.Module):\n",
        "  def __init__(self):\n",
        "    super().__init__()\n",
        "    self.weights = nn.Parameter(torch.randn(1,\n",
        "                                            requires_grad=True,\n",
        "                                            dtype=torch.float))\n",
        "    self.bias = nn.Parameter(torch.randn(1,\n",
        "                                         requires_grad=True,\n",
        "                                         dtype = torch.float))\n",
        "  \n",
        "  def forward(self,x:torch.Tensor) -> torch.Tensor:\n",
        "     return x*self.weights +self.bias"
      ]
    },
    {
      "cell_type": "code",
      "execution_count": 32,
      "metadata": {
        "colab": {
          "base_uri": "https://localhost:8080/"
        },
        "id": "dBi4hE0c78en",
        "outputId": "bc5e9619-ec5a-4368-891a-22ded3ecea34"
      },
      "outputs": [
        {
          "output_type": "execute_result",
          "data": {
            "text/plain": [
              "[Parameter containing:\n",
              " tensor([0.3367], requires_grad=True), Parameter containing:\n",
              " tensor([0.1288], requires_grad=True)]"
            ]
          },
          "metadata": {},
          "execution_count": 32
        }
      ],
      "source": [
        "# create a random Seed\n",
        "torch.manual_seed(42)\n",
        "\n",
        "# create an instance of the sub-class we created\n",
        "model_0 = LinearRegressionModel()\n",
        "\n",
        "# Checking the Parameter\n",
        "list(model_0.parameters())"
      ]
    },
    {
      "cell_type": "code",
      "execution_count": 33,
      "metadata": {
        "colab": {
          "base_uri": "https://localhost:8080/"
        },
        "id": "4nvae-SFUiPx",
        "outputId": "03946329-453b-4806-d6ca-a9fc89e91df0"
      },
      "outputs": [
        {
          "output_type": "execute_result",
          "data": {
            "text/plain": [
              "OrderedDict([('weights', tensor([0.3367])), ('bias', tensor([0.1288]))])"
            ]
          },
          "metadata": {},
          "execution_count": 33
        }
      ],
      "source": [
        "model_0.state_dict()"
      ]
    },
    {
      "cell_type": "code",
      "execution_count": 34,
      "metadata": {
        "id": "4aJpcNakhzDs"
      },
      "outputs": [],
      "source": [
        "#setting a loss function\n",
        "loss_fn = torch.nn.L1Loss()\n",
        "\n",
        "# setting up an optimizer\n",
        "optimizer = torch.optim.SGD(params=list(model_0.parameters()), lr = 0.1)"
      ]
    },
    {
      "cell_type": "markdown",
      "metadata": {
        "id": "kuNHqZXYBks3"
      },
      "source": [
        "## 3.Creating a training loop"
      ]
    },
    {
      "cell_type": "code",
      "execution_count": 35,
      "metadata": {
        "colab": {
          "base_uri": "https://localhost:8080/"
        },
        "id": "-vaCmb9mh8wZ",
        "outputId": "88664152-4152-47d7-de19-c47f28038931"
      },
      "outputs": [
        {
          "output_type": "stream",
          "name": "stdout",
          "text": [
            "Epoch: 0 | loss: 0.6334112286567688 | Test_loss: 0.5750452280044556\n",
            "Epoch: 10 | loss: 0.05418390780687332 | Test_loss: 0.03460393100976944\n",
            "Epoch: 20 | loss: 0.0230104960501194 | Test_loss: 0.10388197749853134\n",
            "Epoch: 30 | loss: 0.0230104960501194 | Test_loss: 0.10388197749853134\n",
            "Epoch: 40 | loss: 0.0230104960501194 | Test_loss: 0.10388197749853134\n",
            "Epoch: 50 | loss: 0.0230104960501194 | Test_loss: 0.10388197749853134\n",
            "Epoch: 60 | loss: 0.0230104960501194 | Test_loss: 0.10388197749853134\n",
            "Epoch: 70 | loss: 0.0230104960501194 | Test_loss: 0.10388197749853134\n",
            "Epoch: 80 | loss: 0.0230104960501194 | Test_loss: 0.10388197749853134\n",
            "Epoch: 90 | loss: 0.0230104960501194 | Test_loss: 0.10388197749853134\n"
          ]
        }
      ],
      "source": [
        "train_loss_values = []\n",
        "test_loss_values = []\n",
        "epoch_count = []\n",
        "epochs = 100\n",
        "for epoch in range(epochs):\n",
        "  # Training of the model\n",
        "  model_0.train()\n",
        "  y_pred = model_0(X_train) # forward\n",
        "  loss = loss_fn(y_pred,y_train) # setting the loss function\n",
        "  optimizer.zero_grad() # setting optimizer to zero grad i.e, \n",
        "  loss.backward() # backward propagation\n",
        "  optimizer.step() # perfoming the optimization step\n",
        "  \n",
        "  # testing out our model\n",
        "  model_0.eval()\n",
        "  with torch.inference_mode():\n",
        "    test_pred = model_0(X_test) # forward propagation\n",
        "    test_loss = loss_fn(test_pred,y_test)\n",
        "    if epoch%10 == 0:\n",
        "      test_loss_values.append(test_loss)\n",
        "      train_loss_values.append(loss)\n",
        "      epoch_count.append(epoch)\n",
        "      print(f\"Epoch: {epoch} | loss: {loss} | Test_loss: {test_loss}\" )"
      ]
    },
    {
      "cell_type": "code",
      "execution_count": 36,
      "metadata": {
        "colab": {
          "base_uri": "https://localhost:8080/"
        },
        "id": "HF3kM3-754kk",
        "outputId": "6c97fdbc-c56e-4caa-8fa3-cd67e463d070"
      },
      "outputs": [
        {
          "output_type": "execute_result",
          "data": {
            "text/plain": [
              "[Parameter containing:\n",
              " tensor([0.8961], requires_grad=True), Parameter containing:\n",
              " tensor([0.4788], requires_grad=True)]"
            ]
          },
          "metadata": {},
          "execution_count": 36
        }
      ],
      "source": [
        "list(model_0.parameters())"
      ]
    },
    {
      "cell_type": "code",
      "execution_count": 37,
      "metadata": {
        "id": "y4tGtD3-E-GB"
      },
      "outputs": [],
      "source": [
        "with torch.inference_mode():\n",
        "  prediction = model_0(X_test)"
      ]
    },
    {
      "cell_type": "code",
      "execution_count": 38,
      "metadata": {
        "colab": {
          "base_uri": "https://localhost:8080/",
          "height": 279
        },
        "id": "tmXNS85nM-ce",
        "outputId": "07d784df-a4c0-46ef-f8c1-1791f9dfe514"
      },
      "outputs": [
        {
          "output_type": "display_data",
          "data": {
            "text/plain": [
              "<Figure size 432x288 with 1 Axes>"
            ],
            "image/png": "[encoded data removed]"
          },
          "metadata": {
            "needs_background": "light"
          }
        }
      ],
      "source": [
        "a = torch.arange(0,2,0.1)\n",
        "plt.scatter(prediction,y_test,c='g')\n",
        "plt.plot(a,a,c ='b')\n",
        "plt.xlabel('predictions by model')\n",
        "plt.ylabel('Actual values')\n",
        "plt.show()"
      ]
    },
    {
      "cell_type": "code",
      "execution_count": 39,
      "metadata": {
        "colab": {
          "base_uri": "https://localhost:8080/"
        },
        "id": "AebK0ncONKH_",
        "outputId": "ec0220be-269c-48de-a318-0c6e53545a84"
      },
      "outputs": [
        {
          "output_type": "execute_result",
          "data": {
            "text/plain": [
              "([tensor(0.6334, grad_fn=<L1LossBackward0>),\n",
              "  tensor(0.0542, grad_fn=<L1LossBackward0>),\n",
              "  tensor(0.0230, grad_fn=<L1LossBackward0>),\n",
              "  tensor(0.0230, grad_fn=<L1LossBackward0>),\n",
              "  tensor(0.0230, grad_fn=<L1LossBackward0>),\n",
              "  tensor(0.0230, grad_fn=<L1LossBackward0>),\n",
              "  tensor(0.0230, grad_fn=<L1LossBackward0>),\n",
              "  tensor(0.0230, grad_fn=<L1LossBackward0>),\n",
              "  tensor(0.0230, grad_fn=<L1LossBackward0>),\n",
              "  tensor(0.0230, grad_fn=<L1LossBackward0>)],\n",
              " [tensor(0.5750),\n",
              "  tensor(0.0346),\n",
              "  tensor(0.1039),\n",
              "  tensor(0.1039),\n",
              "  tensor(0.1039),\n",
              "  tensor(0.1039),\n",
              "  tensor(0.1039),\n",
              "  tensor(0.1039),\n",
              "  tensor(0.1039),\n",
              "  tensor(0.1039)],\n",
              " [0, 10, 20, 30, 40, 50, 60, 70, 80, 90])"
            ]
          },
          "metadata": {},
          "execution_count": 39
        }
      ],
      "source": [
        "train_loss_values, test_loss_values, epoch_count"
      ]
    },
    {
      "cell_type": "code",
      "execution_count": 40,
      "metadata": {
        "id": "WdvZnRNiotI-"
      },
      "outputs": [],
      "source": [
        "training_loss = torch.tensor(train_loss_values).numpy()\n",
        "testing_loss = torch.tensor(test_loss_values).numpy()"
      ]
    },
    {
      "cell_type": "code",
      "execution_count": 41,
      "metadata": {
        "colab": {
          "base_uri": "https://localhost:8080/",
          "height": 282
        },
        "id": "InjXbGPm9Way",
        "outputId": "79b51cbe-7805-4dd5-c672-663960d24b5b"
      },
      "outputs": [
        {
          "output_type": "execute_result",
          "data": {
            "text/plain": [
              "<matplotlib.axes._subplots.AxesSubplot at 0x7ff8b3d62f50>"
            ]
          },
          "metadata": {},
          "execution_count": 41
        },
        {
          "output_type": "display_data",
          "data": {
            "text/plain": [
              "<Figure size 432x288 with 1 Axes>"
            ],
            "image/png": "[encoded data removed]"
          },
          "metadata": {
            "needs_background": "light"
          }
        }
      ],
      "source": [
        "import seaborn as sns\n",
        "sns.lineplot(x = training_loss,y = epoch_count)\n",
        "sns.lineplot(x = testing_loss,y = epoch_count)"
      ]
    },
    {
      "cell_type": "markdown",
      "metadata": {
        "id": "rQk_R5PO9c5L"
      },
      "source": [
        "### `torch.save() is used to save a model in pickle format`\n",
        "### `torch.load() is used to load a model in pickle format`\n",
        "### `torch.nn.Module.load_state_dict() is used to load models state_dict`"
      ]
    },
    {
      "cell_type": "code",
      "execution_count": 43,
      "metadata": {
        "id": "y3DAPKuD9G5X",
        "colab": {
          "base_uri": "https://localhost:8080/"
        },
        "outputId": "18639eec-1c26-4685-f07c-4c12fc8f7ba7"
      },
      "outputs": [
        {
          "output_type": "stream",
          "name": "stdout",
          "text": [
            "Models/01_Model_pytorch.pth\n"
          ]
        }
      ],
      "source": [
        "import pickle\n",
        "from pathlib import Path\n",
        "PATH_NAME = Path('Models')\n",
        "PATH_NAME.mkdir(parents = True,exist_ok = True)\n",
        "MODEL_NAME = '01_Model_pytorch.pth'\n",
        "MODEL_SAVE_PATH = PATH_NAME / MODEL_NAME\n",
        "torch.save(model_0.state_dict(),f = MODEL_SAVE_PATH)\n",
        "print(MODEL_SAVE_PATH)"
      ]
    },
    {
      "cell_type": "code",
      "execution_count": 42,
      "metadata": {
        "id": "AUch6jL6DyIp"
      },
      "outputs": [],
      "source": []
    },
    {
      "cell_type": "code",
      "execution_count": 42,
      "metadata": {
        "id": "AkeutHINETBc"
      },
      "outputs": [],
      "source": []
    }
  ],
  "metadata": {
    "accelerator": "GPU",
    "colab": {
      "collapsed_sections": [],
      "provenance": [],
      "authorship_tag": "ABX9TyMi6P50lqaLx6/guGVil7Sz",
      "include_colab_link": true
    },
    "kernelspec": {
      "display_name": "Python 3",
      "name": "python3"
    },
    "language_info": {
      "name": "python"
    }
  },
  "nbformat": 4,
  "nbformat_minor": 0
}