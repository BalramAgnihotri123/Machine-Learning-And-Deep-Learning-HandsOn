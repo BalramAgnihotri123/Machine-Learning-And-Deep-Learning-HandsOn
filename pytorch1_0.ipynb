{
  "cells": [
    {
      "cell_type": "markdown",
      "metadata": {
        "id": "view-in-github",
        "colab_type": "text"
      },
      "source": [
        "<a href=\"https://colab.research.google.com/github/BalramAgnihotri123/Machine-Learning-And-Deep-Learning-HandsOn/blob/main/pytorch1_0.ipynb\" target=\"_parent\"><img src=\"https://colab.research.google.com/assets/colab-badge.svg\" alt=\"Open In Colab\"/></a>"
      ]
    },
    {
      "cell_type": "code",
      "execution_count": 188,
      "metadata": {
        "colab": {
          "base_uri": "https://localhost:8080/"
        },
        "id": "Z5cHU-v10nhC",
        "outputId": "da3f350e-182a-4982-93bc-633cfbe8829d"
      },
      "outputs": [
        {
          "output_type": "stream",
          "name": "stdout",
          "text": [
            "1.12.1+cu113\n"
          ]
        }
      ],
      "source": [
        "import torch\n",
        "from torch import nn ## it contains all of torch's building blocks\n",
        "import matplotlib.pyplot as plt\n",
        "import pandas as pd\n",
        "import numpy as np\n",
        "import seaborn as sns \n",
        "print(torch.__version__)"
      ]
    },
    {
      "cell_type": "markdown",
      "metadata": {
        "id": "0s_Z3Fun1pLZ"
      },
      "source": [
        "### 1.Data:- Preparing and Loading\n",
        "\n",
        "` Data can be of any form :-`\n",
        "1. `images`\n",
        "2. `voice/audio`\n",
        "3. `vidoes`\n",
        "4. `text`\n",
        "  "
      ]
    },
    {
      "cell_type": "code",
      "execution_count": 189,
      "metadata": {
        "id": "1jCUosEpqi0b"
      },
      "outputs": [],
      "source": [
        "weight = 0.9\n",
        "bias = 0.5\n",
        "start = 0.0\n",
        "end = 1.0\n",
        "step  =  0.02\n",
        "X = torch.arange(start,end,step).unsqueeze(dim=1)\n",
        "y = weight*X +bias"
      ]
    },
    {
      "cell_type": "code",
      "execution_count": 190,
      "metadata": {
        "id": "XPDU80gGtPw_"
      },
      "outputs": [],
      "source": [
        "from  sklearn.model_selection import train_test_split\n",
        "X_train,X_test,y_train,y_test = train_test_split(X,y,random_state = 42,test_size = 0.2)"
      ]
    },
    {
      "cell_type": "code",
      "execution_count": 191,
      "metadata": {
        "colab": {
          "base_uri": "https://localhost:8080/",
          "height": 428
        },
        "id": "_1bGdis4vmL7",
        "outputId": "a8c19b03-5d0e-4eb2-f543-ba057402b5a4"
      },
      "outputs": [
        {
          "output_type": "display_data",
          "data": {
            "text/plain": [
              "<Figure size 720x504 with 1 Axes>"
            ],
            "image/png": "[encoded data removed]"
          },
          "metadata": {
            "needs_background": "light"
          }
        }
      ],
      "source": [
        "plt.figure(figsize =(10,7))\n",
        "plt.scatter(X,y)\n",
        "\n",
        "plt.show()"
      ]
    },
    {
      "cell_type": "markdown",
      "metadata": {
        "id": "9s4_qthlBZ6a"
      },
      "source": [
        "## 2.Initializing the model"
      ]
    },
    {
      "cell_type": "code",
      "execution_count": 192,
      "metadata": {
        "id": "s64xRmR5wNDZ"
      },
      "outputs": [],
      "source": [
        "# Creating a sub-class of nn.Module and defining the parameters i.e, weights and biases along with that we overwright the forward function.\n",
        "\n",
        "class LinearRegressionModel(nn.Module):\n",
        "  \n",
        "  def __init__(self):\n",
        "    super().__init__()\n",
        "    # Linear_transformation, fully_connected_layer,probing_layer,dense_layer\n",
        "    self.linear_layer = nn.Linear(in_features = 1,out_features=1)\n",
        "  \n",
        "  def forward(self,x:torch.Tensor) -> torch.Tensor: \n",
        "    return self.linear_layer(x)"
      ]
    },
    {
      "cell_type": "code",
      "execution_count": 193,
      "metadata": {
        "colab": {
          "base_uri": "https://localhost:8080/"
        },
        "id": "dBi4hE0c78en",
        "outputId": "f959bcea-9a4f-4247-e5e7-05ae95bc345b"
      },
      "outputs": [
        {
          "output_type": "execute_result",
          "data": {
            "text/plain": [
              "[Parameter containing:\n",
              " tensor([[0.7645]], requires_grad=True), Parameter containing:\n",
              " tensor([0.8300], requires_grad=True)]"
            ]
          },
          "metadata": {},
          "execution_count": 193
        }
      ],
      "source": [
        "# create a random Seed\n",
        "torch.manual_seed(42)\n",
        "\n",
        "# create an instance of the sub-class we created\n",
        "model_0 = LinearRegressionModel()\n",
        "\n",
        "# Checking the Parameter\n",
        "list(model_0.parameters())"
      ]
    },
    {
      "cell_type": "code",
      "execution_count": 194,
      "metadata": {
        "colab": {
          "base_uri": "https://localhost:8080/"
        },
        "id": "4nvae-SFUiPx",
        "outputId": "3ddffcc6-6760-4e21-8621-6c630f72832b"
      },
      "outputs": [
        {
          "output_type": "execute_result",
          "data": {
            "text/plain": [
              "OrderedDict([('linear_layer.weight', tensor([[0.7645]])),\n",
              "             ('linear_layer.bias', tensor([0.8300]))])"
            ]
          },
          "metadata": {},
          "execution_count": 194
        }
      ],
      "source": [
        "model_0.state_dict()"
      ]
    },
    {
      "cell_type": "code",
      "execution_count": 195,
      "metadata": {
        "id": "4aJpcNakhzDs"
      },
      "outputs": [],
      "source": [
        "#setting a loss function\n",
        "loss_fn = torch.nn.L1Loss()\n",
        "\n",
        "# setting up an optimizer\n",
        "optimizer = torch.optim.SGD(params=list(model_0.parameters()), lr = 0.02)"
      ]
    },
    {
      "cell_type": "markdown",
      "metadata": {
        "id": "kuNHqZXYBks3"
      },
      "source": [
        "## 3.Creating a training loop"
      ]
    },
    {
      "cell_type": "code",
      "execution_count": 196,
      "metadata": {
        "colab": {
          "base_uri": "https://localhost:8080/"
        },
        "id": "-vaCmb9mh8wZ",
        "outputId": "71e6e124-f894-4370-9730-a3f1c2be550e"
      },
      "outputs": [
        {
          "output_type": "stream",
          "name": "stdout",
          "text": [
            "Epoch: 0 | loss: 0.2669505774974823 | Test_loss: 0.2248823195695877\n",
            "Epoch: 10 | loss: 0.0657433271408081 | Test_loss: 0.042829710990190506\n",
            "Epoch: 20 | loss: 0.049910955131053925 | Test_loss: 0.034173011779785156\n",
            "Epoch: 30 | loss: 0.03874649852514267 | Test_loss: 0.026412392035126686\n",
            "Epoch: 40 | loss: 0.027586067095398903 | Test_loss: 0.018550222739577293\n",
            "Epoch: 50 | loss: 0.016415711492300034 | Test_loss: 0.01068810187280178\n",
            "Epoch: 60 | loss: 0.005261165089905262 | Test_loss: 0.0029451847076416016\n",
            "Epoch: 70 | loss: 0.002761051757261157 | Test_loss: 0.022247564047574997\n",
            "Epoch: 80 | loss: 0.002761051757261157 | Test_loss: 0.022247564047574997\n",
            "Epoch: 90 | loss: 0.002761051757261157 | Test_loss: 0.022247564047574997\n"
          ]
        }
      ],
      "source": [
        "train_loss_values = []\n",
        "test_loss_values = []\n",
        "epoch_count = []\n",
        "epochs = 100\n",
        "for epoch in range(epochs):\n",
        "  # Training of the model\n",
        "  model_0.train()\n",
        "  y_pred = model_0(X_train) # forward\n",
        "  loss = loss_fn(y_pred,y_train) # setting the loss function\n",
        "  optimizer.zero_grad() # setting optimizer to zero grad i.e, \n",
        "  loss.backward() # backward propagation\n",
        "  optimizer.step() # perfoming the optimization step\n",
        "  \n",
        "  # testing out our model\n",
        "  model_0.eval()\n",
        "  with torch.inference_mode():\n",
        "    test_pred = model_0(X_test) # forward propagation\n",
        "    test_loss = loss_fn(test_pred,y_test)\n",
        "    if epoch%10 == 0:\n",
        "      test_loss_values.append(test_loss)\n",
        "      train_loss_values.append(loss)\n",
        "      epoch_count.append(epoch)\n",
        "      print(f\"Epoch: {epoch} | loss: {loss} | Test_loss: {test_loss}\" )"
      ]
    },
    {
      "cell_type": "code",
      "execution_count": 197,
      "metadata": {
        "colab": {
          "base_uri": "https://localhost:8080/"
        },
        "id": "HF3kM3-754kk",
        "outputId": "64b2ab59-d261-4cfb-eab4-d8cd857a3622"
      },
      "outputs": [
        {
          "output_type": "execute_result",
          "data": {
            "text/plain": [
              "[Parameter containing:\n",
              " tensor([[0.8962]], requires_grad=True), Parameter containing:\n",
              " tensor([0.4990], requires_grad=True)]"
            ]
          },
          "metadata": {},
          "execution_count": 197
        }
      ],
      "source": [
        "list(model_0.parameters())"
      ]
    },
    {
      "cell_type": "code",
      "execution_count": 198,
      "metadata": {
        "id": "y4tGtD3-E-GB"
      },
      "outputs": [],
      "source": [
        "with torch.inference_mode():\n",
        "  prediction = model_0(X_test)"
      ]
    },
    {
      "cell_type": "code",
      "execution_count": 199,
      "metadata": {
        "colab": {
          "base_uri": "https://localhost:8080/",
          "height": 279
        },
        "id": "tmXNS85nM-ce",
        "outputId": "c6a7bd4a-a98f-480c-ef3f-9cc287639f5d"
      },
      "outputs": [
        {
          "output_type": "display_data",
          "data": {
            "text/plain": [
              "<Figure size 432x288 with 1 Axes>"
            ],
            "image/png": "[encoded data removed]"
          },
          "metadata": {
            "needs_background": "light"
          }
        }
      ],
      "source": [
        "a = torch.arange(0,2,0.1)\n",
        "plt.scatter(prediction,y_test,c='g')\n",
        "plt.plot(a,a,c ='b')\n",
        "plt.xlabel('predictions by model')\n",
        "plt.ylabel('Actual values')\n",
        "plt.show()"
      ]
    },
    {
      "cell_type": "code",
      "execution_count": 200,
      "metadata": {
        "colab": {
          "base_uri": "https://localhost:8080/"
        },
        "id": "AebK0ncONKH_",
        "outputId": "e3010905-52ca-4dc5-da5d-93a288b07e67"
      },
      "outputs": [
        {
          "output_type": "execute_result",
          "data": {
            "text/plain": [
              "([tensor(0.2670, grad_fn=<L1LossBackward0>),\n",
              "  tensor(0.0657, grad_fn=<L1LossBackward0>),\n",
              "  tensor(0.0499, grad_fn=<L1LossBackward0>),\n",
              "  tensor(0.0387, grad_fn=<L1LossBackward0>),\n",
              "  tensor(0.0276, grad_fn=<L1LossBackward0>),\n",
              "  tensor(0.0164, grad_fn=<L1LossBackward0>),\n",
              "  tensor(0.0053, grad_fn=<L1LossBackward0>),\n",
              "  tensor(0.0028, grad_fn=<L1LossBackward0>),\n",
              "  tensor(0.0028, grad_fn=<L1LossBackward0>),\n",
              "  tensor(0.0028, grad_fn=<L1LossBackward0>)],\n",
              " [tensor(0.2249),\n",
              "  tensor(0.0428),\n",
              "  tensor(0.0342),\n",
              "  tensor(0.0264),\n",
              "  tensor(0.0186),\n",
              "  tensor(0.0107),\n",
              "  tensor(0.0029),\n",
              "  tensor(0.0222),\n",
              "  tensor(0.0222),\n",
              "  tensor(0.0222)],\n",
              " [0, 10, 20, 30, 40, 50, 60, 70, 80, 90])"
            ]
          },
          "metadata": {},
          "execution_count": 200
        }
      ],
      "source": [
        "train_loss_values, test_loss_values, epoch_count"
      ]
    },
    {
      "cell_type": "code",
      "execution_count": 201,
      "metadata": {
        "id": "WdvZnRNiotI-"
      },
      "outputs": [],
      "source": [
        "training_loss = torch.tensor(train_loss_values).numpy()\n",
        "testing_loss = torch.tensor(test_loss_values).numpy()"
      ]
    },
    {
      "cell_type": "code",
      "execution_count": 202,
      "metadata": {
        "colab": {
          "base_uri": "https://localhost:8080/",
          "height": 282
        },
        "id": "InjXbGPm9Way",
        "outputId": "1d36a67a-c836-4e72-ad59-44cdf5508eb3"
      },
      "outputs": [
        {
          "output_type": "execute_result",
          "data": {
            "text/plain": [
              "<matplotlib.axes._subplots.AxesSubplot at 0x7face1e8a090>"
            ]
          },
          "metadata": {},
          "execution_count": 202
        },
        {
          "output_type": "display_data",
          "data": {
            "text/plain": [
              "<Figure size 432x288 with 1 Axes>"
            ],
            "image/png": "[encoded data removed]"
          },
          "metadata": {
            "needs_background": "light"
          }
        }
      ],
      "source": [
        "import seaborn as sns\n",
        "sns.lineplot(x = training_loss,y = epoch_count)\n",
        "sns.lineplot(x = testing_loss,y = epoch_count)"
      ]
    },
    {
      "cell_type": "markdown",
      "metadata": {
        "id": "rQk_R5PO9c5L"
      },
      "source": [
        "## 4.Saving and Loading the data\n",
        "### `torch.save() is used to save a model in pickle format`\n",
        "### `torch.load() is used to load a model in pickle format`\n",
        "### `torch.nn.Module.load_state_dict() is used to load models state_dict`"
      ]
    },
    {
      "cell_type": "code",
      "execution_count": 203,
      "metadata": {
        "id": "y3DAPKuD9G5X",
        "colab": {
          "base_uri": "https://localhost:8080/"
        },
        "outputId": "46ef3f3a-61a9-4dba-f5e5-2ca689064df0"
      },
      "outputs": [
        {
          "output_type": "stream",
          "name": "stdout",
          "text": [
            "Models/01_Model_pytorch.pth\n"
          ]
        }
      ],
      "source": [
        "import pickle\n",
        "from pathlib import Path\n",
        "PATH_NAME = Path('Models')\n",
        "PATH_NAME.mkdir(parents = True,exist_ok = True)\n",
        "MODEL_NAME = '01_Model_pytorch.pth'\n",
        "MODEL_SAVE_PATH = PATH_NAME / MODEL_NAME\n",
        "torch.save(model_0.state_dict(),f = MODEL_SAVE_PATH)\n",
        "print(MODEL_SAVE_PATH)"
      ]
    },
    {
      "cell_type": "code",
      "execution_count": 204,
      "metadata": {
        "id": "AUch6jL6DyIp",
        "colab": {
          "base_uri": "https://localhost:8080/"
        },
        "outputId": "4b206c95-34c6-4486-b812-26fe2c2bae1a"
      },
      "outputs": [
        {
          "output_type": "execute_result",
          "data": {
            "text/plain": [
              "OrderedDict([('linear_layer.weight', tensor([[0.8962]])),\n",
              "             ('linear_layer.bias', tensor([0.4990]))])"
            ]
          },
          "metadata": {},
          "execution_count": 204
        }
      ],
      "source": [
        "loaded_model = LinearRegressionModel()\n",
        "loaded_model.load_state_dict(torch.load(f=MODEL_SAVE_PATH))\n",
        "loaded_model.state_dict()"
      ]
    },
    {
      "cell_type": "code",
      "source": [
        "loaded_model_preds = loaded_model(X_test)\n",
        "prediction == loaded_model_preds"
      ],
      "metadata": {
        "id": "4TEdD3hpSmxs",
        "colab": {
          "base_uri": "https://localhost:8080/"
        },
        "outputId": "63d3fbd5-1a69-4d9d-844c-e73a6dc8c783"
      },
      "execution_count": 205,
      "outputs": [
        {
          "output_type": "execute_result",
          "data": {
            "text/plain": [
              "tensor([[True],\n",
              "        [True],\n",
              "        [True],\n",
              "        [True],\n",
              "        [True],\n",
              "        [True],\n",
              "        [True],\n",
              "        [True],\n",
              "        [True],\n",
              "        [True]])"
            ]
          },
          "metadata": {},
          "execution_count": 205
        }
      ]
    },
    {
      "cell_type": "code",
      "source": [
        "model = LinearRegressionModel()\n",
        "print(f'Old Parameters of the model: {model.state_dict()} ')\n",
        "model.load_state_dict(torch.load(f = MODEL_SAVE_PATH))"
      ],
      "metadata": {
        "colab": {
          "base_uri": "https://localhost:8080/"
        },
        "id": "XjouZTZunmWh",
        "outputId": "0ce1125e-a0ad-4615-a9b1-2c02f7a6e9a0"
      },
      "execution_count": 206,
      "outputs": [
        {
          "output_type": "stream",
          "name": "stdout",
          "text": [
            "Old Parameters of the model: OrderedDict([('linear_layer.weight', tensor([[-0.2191]])), ('linear_layer.bias', tensor([0.2018]))]) \n"
          ]
        },
        {
          "output_type": "execute_result",
          "data": {
            "text/plain": [
              "<All keys matched successfully>"
            ]
          },
          "metadata": {},
          "execution_count": 206
        }
      ]
    },
    {
      "cell_type": "code",
      "source": [
        "model.state_dict()"
      ],
      "metadata": {
        "colab": {
          "base_uri": "https://localhost:8080/"
        },
        "id": "RaEqCJvkoKZb",
        "outputId": "464ad956-7c99-4ede-90d9-e4d4232655cb"
      },
      "execution_count": 207,
      "outputs": [
        {
          "output_type": "execute_result",
          "data": {
            "text/plain": [
              "OrderedDict([('linear_layer.weight', tensor([[0.8962]])),\n",
              "             ('linear_layer.bias', tensor([0.4990]))])"
            ]
          },
          "metadata": {},
          "execution_count": 207
        }
      ]
    },
    {
      "cell_type": "code",
      "source": [
        "import torch\n",
        "from torch import nn\n",
        "import matplotlib.pyplot as plt \n",
        "torch.__version__"
      ],
      "metadata": {
        "colab": {
          "base_uri": "https://localhost:8080/",
          "height": 35
        },
        "id": "gS9j-OX5oXjd",
        "outputId": "ebc032d7-4084-4275-ebb4-27d3db493010"
      },
      "execution_count": 208,
      "outputs": [
        {
          "output_type": "execute_result",
          "data": {
            "text/plain": [
              "'1.12.1+cu113'"
            ],
            "application/vnd.google.colaboratory.intrinsic+json": {
              "type": "string"
            }
          },
          "metadata": {},
          "execution_count": 208
        }
      ]
    },
    {
      "cell_type": "code",
      "source": [
        "device = 'cuda' if torch.cuda.is_available() else 'cpu'"
      ],
      "metadata": {
        "id": "ETkYMgE-rKHB"
      },
      "execution_count": 209,
      "outputs": []
    },
    {
      "cell_type": "code",
      "source": [
        "print(device)"
      ],
      "metadata": {
        "colab": {
          "base_uri": "https://localhost:8080/"
        },
        "id": "m4z2uPZgrbrq",
        "outputId": "a94d4bc8-7678-493b-9714-c11e0ec6702c"
      },
      "execution_count": 210,
      "outputs": [
        {
          "output_type": "stream",
          "name": "stdout",
          "text": [
            "cuda\n"
          ]
        }
      ]
    },
    {
      "cell_type": "code",
      "source": [
        "class linear_reg(nn.Module):\n",
        "  def __init__(self):\n",
        "    super().__init__()\n",
        "    self.weights = nn.Parameter(torch.randn(1,\n",
        "                                            requires_grad=True,\n",
        "                                            dtype=torch.float))\n",
        "    self.bias = nn.Parameter(torch.randn(1,\n",
        "                                         requires_grad=True,\n",
        "                                         dtype = torch.float))\n",
        "  \n",
        "  def forward(self,x:torch.Tensor) -> torch.Tensor:\n",
        "     return x*self.weights +self.bias"
      ],
      "metadata": {
        "id": "4WK1leAtrv1K"
      },
      "execution_count": 211,
      "outputs": []
    },
    {
      "cell_type": "code",
      "source": [
        "torch.manual_seed(42)\n",
        "a = linear_reg()\n",
        "a.state_dict()"
      ],
      "metadata": {
        "colab": {
          "base_uri": "https://localhost:8080/"
        },
        "id": "FhWzxxV0tQcG",
        "outputId": "8da9500a-17a2-4b5f-b622-c0d1983b00d7"
      },
      "execution_count": 212,
      "outputs": [
        {
          "output_type": "execute_result",
          "data": {
            "text/plain": [
              "OrderedDict([('weights', tensor([0.3367])), ('bias', tensor([0.1288]))])"
            ]
          },
          "metadata": {},
          "execution_count": 212
        }
      ]
    },
    {
      "cell_type": "code",
      "source": [
        "a.to(device)"
      ],
      "metadata": {
        "colab": {
          "base_uri": "https://localhost:8080/"
        },
        "id": "FqQMAfwbu8FA",
        "outputId": "5b2b6de9-21d2-43fb-8d36-f9b46c84b9ca"
      },
      "execution_count": 213,
      "outputs": [
        {
          "output_type": "execute_result",
          "data": {
            "text/plain": [
              "linear_reg()"
            ]
          },
          "metadata": {},
          "execution_count": 213
        }
      ]
    },
    {
      "cell_type": "code",
      "source": [
        "next(a.parameters()).device"
      ],
      "metadata": {
        "colab": {
          "base_uri": "https://localhost:8080/"
        },
        "id": "4YYJSp7oxVxJ",
        "outputId": "27ed7853-2d54-4c96-f69b-02561d82307a"
      },
      "execution_count": 214,
      "outputs": [
        {
          "output_type": "execute_result",
          "data": {
            "text/plain": [
              "device(type='cuda', index=0)"
            ]
          },
          "metadata": {},
          "execution_count": 214
        }
      ]
    },
    {
      "cell_type": "code",
      "source": [
        "loss_1 = nn.L1Loss()\n",
        "optimizer = torch.optim.SGD(params = a.parameters(),lr = 0.01)"
      ],
      "metadata": {
        "id": "e2pWtnUtxdAF"
      },
      "execution_count": 215,
      "outputs": []
    },
    {
      "cell_type": "code",
      "source": [
        "torch.manual_seed(42)\n",
        "epochs = 200\n",
        "\n",
        "## putting data on gpu\n",
        "X_train = X_train.to(device)\n",
        "y_train = y_train.to(device)\n",
        "X_test = X_test.to(device)\n",
        "y_test = y_test.to(device)\n",
        "for epoch in range(epochs):\n",
        "  a.train()\n",
        "  y_pred = a(X_train)\n",
        "  loss = loss_1(y_pred,y_train)\n",
        "  optimizer.zero_grad()\n",
        "  loss.backward()\n",
        "  optimizer.step()\n",
        "  a.eval()\n",
        "  with torch.inference_mode():\n",
        "    predictions = a(X_test)\n",
        "    loss = loss_1(predictions,y_test)\n",
        "  if epoch%20 ==0:\n",
        "      print({loss})"
      ],
      "metadata": {
        "colab": {
          "base_uri": "https://localhost:8080/"
        },
        "id": "RbZV3uiXyD_E",
        "outputId": "9dd20e25-6ad8-4dca-d0d6-28da3dbe7de2"
      },
      "execution_count": 216,
      "outputs": [
        {
          "output_type": "stream",
          "name": "stdout",
          "text": [
            "{tensor(0.6897, device='cuda:0')}\n",
            "{tensor(0.4349, device='cuda:0')}\n",
            "{tensor(0.1848, device='cuda:0')}\n",
            "{tensor(0.0709, device='cuda:0')}\n",
            "{tensor(0.0481, device='cuda:0')}\n",
            "{tensor(0.0393, device='cuda:0')}\n",
            "{tensor(0.0305, device='cuda:0')}\n",
            "{tensor(0.0217, device='cuda:0')}\n",
            "{tensor(0.0131, device='cuda:0')}\n",
            "{tensor(0.0051, device='cuda:0')}\n"
          ]
        }
      ]
    },
    {
      "cell_type": "code",
      "source": [
        "predictions=predictions.cpu()\n",
        "y_test=y_test.cpu()\n",
        "line = torch.arange(0.6,2,0.3)\n",
        "line= line.cpu()\n",
        "\n",
        "plt.scatter(predictions,y_test)\n",
        "plt.plot(line,line)\n",
        "plt.legend()\n",
        "plt.show()"
      ],
      "metadata": {
        "colab": {
          "base_uri": "https://localhost:8080/",
          "height": 282
        },
        "id": "Qfqz4wPBziRE",
        "outputId": "aa032777-0e77-4b49-8a32-27e93e89626f"
      },
      "execution_count": 217,
      "outputs": [
        {
          "output_type": "stream",
          "name": "stderr",
          "text": [
            "WARNING:matplotlib.legend:No handles with labels found to put in legend.\n"
          ]
        },
        {
          "output_type": "display_data",
          "data": {
            "text/plain": [
              "<Figure size 432x288 with 1 Axes>"
            ],
            "image/png": "[encoded data removed]"
          },
          "metadata": {
            "needs_background": "light"
          }
        }
      ]
    },
    {
      "cell_type": "code",
      "source": [
        "a.state_dict()"
      ],
      "metadata": {
        "colab": {
          "base_uri": "https://localhost:8080/"
        },
        "id": "zhgJ1D-04oZV",
        "outputId": "edb6956d-44ab-4e84-a97b-0505dc3185ab"
      },
      "execution_count": 218,
      "outputs": [
        {
          "output_type": "execute_result",
          "data": {
            "text/plain": [
              "OrderedDict([('weights', tensor([0.9011], device='cuda:0')),\n",
              "             ('bias', tensor([0.5028], device='cuda:0'))])"
            ]
          },
          "metadata": {},
          "execution_count": 218
        }
      ]
    },
    {
      "cell_type": "code",
      "source": [],
      "metadata": {
        "id": "YiZ3d8T16Q-4"
      },
      "execution_count": 218,
      "outputs": []
    }
  ],
  "metadata": {
    "colab": {
      "collapsed_sections": [],
      "provenance": [],
      "toc_visible": true,
      "authorship_tag": "ABX9TyMfTj3GTgsgNBMhaaUIQkfp",
      "include_colab_link": true
    },
    "kernelspec": {
      "display_name": "Python 3",
      "name": "python3"
    },
    "language_info": {
      "name": "python"
    },
    "accelerator": "GPU"
  },
  "nbformat": 4,
  "nbformat_minor": 0
}