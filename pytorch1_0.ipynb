{
  "cells": [
    {
      "cell_type": "markdown",
      "metadata": {
        "id": "view-in-github",
        "colab_type": "text"
      },
      "source": [
        "<a href=\"https://colab.research.google.com/github/BalramAgnihotri123/Machine-Learning-And-Deep-Learning-HandsOn/blob/main/pytorch1_0.ipynb\" target=\"_parent\"><img src=\"https://colab.research.google.com/assets/colab-badge.svg\" alt=\"Open In Colab\"/></a>"
      ]
    },
    {
      "cell_type": "code",
      "execution_count": 220,
      "metadata": {
        "colab": {
          "base_uri": "https://localhost:8080/"
        },
        "id": "Z5cHU-v10nhC",
        "outputId": "345932ba-6ad0-4b08-a23e-3f21f17643e1"
      },
      "outputs": [
        {
          "output_type": "stream",
          "name": "stdout",
          "text": [
            "1.12.1+cu113\n"
          ]
        }
      ],
      "source": [
        "import torch\n",
        "from torch import nn ## it contains all of torch's building blocks\n",
        "import matplotlib.pyplot as plt\n",
        "import pandas as pd\n",
        "import numpy as np\n",
        "import seaborn as sns \n",
        "import warnings\n",
        "warnings.filterwarnings('ignore')\n",
        "print(torch.__version__)"
      ]
    },
    {
      "cell_type": "markdown",
      "metadata": {
        "id": "0s_Z3Fun1pLZ"
      },
      "source": [
        "### 1.Data:- Preparing and Loading\n",
        "\n",
        "` Data can be of any form :-`\n",
        "1. `images`\n",
        "2. `voice/audio`\n",
        "3. `vidoes`\n",
        "4. `text`\n",
        "  "
      ]
    },
    {
      "cell_type": "code",
      "execution_count": 221,
      "metadata": {
        "id": "1jCUosEpqi0b"
      },
      "outputs": [],
      "source": [
        "weight = 0.9\n",
        "bias = 0.5\n",
        "start = 0.0\n",
        "end = 1.0\n",
        "step  =  0.02\n",
        "X = torch.arange(start,end,step).unsqueeze(dim=1)\n",
        "y = weight*X +bias"
      ]
    },
    {
      "cell_type": "code",
      "execution_count": 222,
      "metadata": {
        "id": "XPDU80gGtPw_"
      },
      "outputs": [],
      "source": [
        "from  sklearn.model_selection import train_test_split\n",
        "X_train,X_test,y_train,y_test = train_test_split(X,y,random_state = 42,test_size = 0.2)"
      ]
    },
    {
      "cell_type": "code",
      "execution_count": 223,
      "metadata": {
        "colab": {
          "base_uri": "https://localhost:8080/",
          "height": 428
        },
        "id": "_1bGdis4vmL7",
        "outputId": "715e00f7-63b4-4ae6-9ccd-5bd1fca793f4"
      },
      "outputs": [
        {
          "output_type": "display_data",
          "data": {
            "text/plain": [
              "<Figure size 720x504 with 1 Axes>"
            ],
            "image/png": "[encoded data removed]"
          },
          "metadata": {
            "needs_background": "light"
          }
        }
      ],
      "source": [
        "plt.figure(figsize =(10,7))\n",
        "plt.scatter(X,y)\n",
        "\n",
        "plt.show()"
      ]
    },
    {
      "cell_type": "markdown",
      "metadata": {
        "id": "9s4_qthlBZ6a"
      },
      "source": [
        "## 2.Initializing the model"
      ]
    },
    {
      "cell_type": "code",
      "execution_count": 224,
      "metadata": {
        "id": "s64xRmR5wNDZ"
      },
      "outputs": [],
      "source": [
        "# Creating a sub-class of nn.Module and defining the parameters i.e, weights and biases along with that we overwright the forward function.\n",
        "\n",
        "class LinearRegressionModel(nn.Module):\n",
        "  \n",
        "  def __init__(self):\n",
        "    super().__init__()\n",
        "    # Linear_transformation, fully_connected_layer,probing_layer,dense_layer\n",
        "    self.linear_layer = nn.Linear(in_features = 1,out_features=1)\n",
        "  \n",
        "  def forward(self,x:torch.Tensor) -> torch.Tensor: \n",
        "    return self.linear_layer(x)"
      ]
    },
    {
      "cell_type": "code",
      "execution_count": 225,
      "metadata": {
        "colab": {
          "base_uri": "https://localhost:8080/"
        },
        "id": "dBi4hE0c78en",
        "outputId": "c27c045e-4036-4932-ee67-40db684035ca"
      },
      "outputs": [
        {
          "output_type": "execute_result",
          "data": {
            "text/plain": [
              "[Parameter containing:\n",
              " tensor([[0.7645]], requires_grad=True), Parameter containing:\n",
              " tensor([0.8300], requires_grad=True)]"
            ]
          },
          "metadata": {},
          "execution_count": 225
        }
      ],
      "source": [
        "# create a random Seed\n",
        "torch.manual_seed(42)\n",
        "\n",
        "# create an instance of the sub-class we created\n",
        "model_0 = LinearRegressionModel()\n",
        "\n",
        "# Checking the Parameter\n",
        "list(model_0.parameters())"
      ]
    },
    {
      "cell_type": "code",
      "execution_count": 226,
      "metadata": {
        "colab": {
          "base_uri": "https://localhost:8080/"
        },
        "id": "4nvae-SFUiPx",
        "outputId": "7badd6af-84db-40b4-c85c-0c27baa8cce5"
      },
      "outputs": [
        {
          "output_type": "execute_result",
          "data": {
            "text/plain": [
              "OrderedDict([('linear_layer.weight', tensor([[0.7645]])),\n",
              "             ('linear_layer.bias', tensor([0.8300]))])"
            ]
          },
          "metadata": {},
          "execution_count": 226
        }
      ],
      "source": [
        "model_0.state_dict()"
      ]
    },
    {
      "cell_type": "code",
      "execution_count": 227,
      "metadata": {
        "id": "4aJpcNakhzDs"
      },
      "outputs": [],
      "source": [
        "#setting a loss function\n",
        "loss_fn = torch.nn.L1Loss()\n",
        "\n",
        "# setting up an optimizer\n",
        "optimizer = torch.optim.SGD(params=list(model_0.parameters()), lr = 0.02)"
      ]
    },
    {
      "cell_type": "markdown",
      "metadata": {
        "id": "kuNHqZXYBks3"
      },
      "source": [
        "## 3.Creating a training loop"
      ]
    },
    {
      "cell_type": "code",
      "execution_count": 228,
      "metadata": {
        "colab": {
          "base_uri": "https://localhost:8080/"
        },
        "id": "-vaCmb9mh8wZ",
        "outputId": "8072a661-c567-458e-cf8e-6db94103f6f3"
      },
      "outputs": [
        {
          "output_type": "stream",
          "name": "stdout",
          "text": [
            "Epoch: 0 | loss: 0.2669505774974823 | Test_loss: 0.2248823195695877\n",
            "Epoch: 10 | loss: 0.0657433271408081 | Test_loss: 0.042829710990190506\n",
            "Epoch: 20 | loss: 0.049910955131053925 | Test_loss: 0.034173011779785156\n",
            "Epoch: 30 | loss: 0.03874649852514267 | Test_loss: 0.026412392035126686\n",
            "Epoch: 40 | loss: 0.027586067095398903 | Test_loss: 0.018550222739577293\n",
            "Epoch: 50 | loss: 0.016415711492300034 | Test_loss: 0.01068810187280178\n",
            "Epoch: 60 | loss: 0.005261165089905262 | Test_loss: 0.0029451847076416016\n",
            "Epoch: 70 | loss: 0.002761051757261157 | Test_loss: 0.022247564047574997\n",
            "Epoch: 80 | loss: 0.002761051757261157 | Test_loss: 0.022247564047574997\n",
            "Epoch: 90 | loss: 0.002761051757261157 | Test_loss: 0.022247564047574997\n"
          ]
        }
      ],
      "source": [
        "train_loss_values = []\n",
        "test_loss_values = []\n",
        "epoch_count = []\n",
        "epochs = 100\n",
        "for epoch in range(epochs):\n",
        "  # Training of the model\n",
        "  model_0.train()\n",
        "  y_pred = model_0(X_train) # forward\n",
        "  loss = loss_fn(y_pred,y_train) # setting the loss function\n",
        "  optimizer.zero_grad() # setting optimizer to zero grad i.e, \n",
        "  loss.backward() # backward propagation\n",
        "  optimizer.step() # perfoming the optimization step\n",
        "  \n",
        "  # testing out our model\n",
        "  model_0.eval()\n",
        "  with torch.inference_mode():\n",
        "    test_pred = model_0(X_test) # forward propagation\n",
        "    test_loss = loss_fn(test_pred,y_test)\n",
        "    if epoch%10 == 0:\n",
        "      test_loss_values.append(test_loss)\n",
        "      train_loss_values.append(loss)\n",
        "      epoch_count.append(epoch)\n",
        "      print(f\"Epoch: {epoch} | loss: {loss} | Test_loss: {test_loss}\" )"
      ]
    },
    {
      "cell_type": "code",
      "execution_count": 229,
      "metadata": {
        "colab": {
          "base_uri": "https://localhost:8080/"
        },
        "id": "HF3kM3-754kk",
        "outputId": "635375e1-609b-409c-a682-1519e13c8828"
      },
      "outputs": [
        {
          "output_type": "execute_result",
          "data": {
            "text/plain": [
              "[Parameter containing:\n",
              " tensor([[0.8962]], requires_grad=True), Parameter containing:\n",
              " tensor([0.4990], requires_grad=True)]"
            ]
          },
          "metadata": {},
          "execution_count": 229
        }
      ],
      "source": [
        "list(model_0.parameters())"
      ]
    },
    {
      "cell_type": "code",
      "execution_count": 230,
      "metadata": {
        "id": "y4tGtD3-E-GB"
      },
      "outputs": [],
      "source": [
        "with torch.inference_mode():\n",
        "  prediction = model_0(X_test)"
      ]
    },
    {
      "cell_type": "code",
      "execution_count": 231,
      "metadata": {
        "colab": {
          "base_uri": "https://localhost:8080/",
          "height": 279
        },
        "id": "tmXNS85nM-ce",
        "outputId": "19702f3c-d9e2-4334-89f6-79820ecf0e72"
      },
      "outputs": [
        {
          "output_type": "display_data",
          "data": {
            "text/plain": [
              "<Figure size 432x288 with 1 Axes>"
            ],
            "image/png": "[encoded data removed]"
          },
          "metadata": {
            "needs_background": "light"
          }
        }
      ],
      "source": [
        "a = torch.arange(0,2,0.1)\n",
        "plt.scatter(prediction,y_test,c='g')\n",
        "plt.plot(a,a,c ='b')\n",
        "plt.xlabel('predictions by model')\n",
        "plt.ylabel('Actual values')\n",
        "plt.show()"
      ]
    },
    {
      "cell_type": "code",
      "execution_count": 232,
      "metadata": {
        "colab": {
          "base_uri": "https://localhost:8080/"
        },
        "id": "AebK0ncONKH_",
        "outputId": "dda9c1a1-33f6-438a-fece-db2d3f2feca0"
      },
      "outputs": [
        {
          "output_type": "execute_result",
          "data": {
            "text/plain": [
              "([tensor(0.2670, grad_fn=<L1LossBackward0>),\n",
              "  tensor(0.0657, grad_fn=<L1LossBackward0>),\n",
              "  tensor(0.0499, grad_fn=<L1LossBackward0>),\n",
              "  tensor(0.0387, grad_fn=<L1LossBackward0>),\n",
              "  tensor(0.0276, grad_fn=<L1LossBackward0>),\n",
              "  tensor(0.0164, grad_fn=<L1LossBackward0>),\n",
              "  tensor(0.0053, grad_fn=<L1LossBackward0>),\n",
              "  tensor(0.0028, grad_fn=<L1LossBackward0>),\n",
              "  tensor(0.0028, grad_fn=<L1LossBackward0>),\n",
              "  tensor(0.0028, grad_fn=<L1LossBackward0>)],\n",
              " [tensor(0.2249),\n",
              "  tensor(0.0428),\n",
              "  tensor(0.0342),\n",
              "  tensor(0.0264),\n",
              "  tensor(0.0186),\n",
              "  tensor(0.0107),\n",
              "  tensor(0.0029),\n",
              "  tensor(0.0222),\n",
              "  tensor(0.0222),\n",
              "  tensor(0.0222)],\n",
              " [0, 10, 20, 30, 40, 50, 60, 70, 80, 90])"
            ]
          },
          "metadata": {},
          "execution_count": 232
        }
      ],
      "source": [
        "train_loss_values, test_loss_values, epoch_count"
      ]
    },
    {
      "cell_type": "code",
      "execution_count": 233,
      "metadata": {
        "id": "WdvZnRNiotI-"
      },
      "outputs": [],
      "source": [
        "training_loss = torch.tensor(train_loss_values).numpy()\n",
        "testing_loss = torch.tensor(test_loss_values).numpy()"
      ]
    },
    {
      "cell_type": "code",
      "execution_count": 234,
      "metadata": {
        "colab": {
          "base_uri": "https://localhost:8080/",
          "height": 282
        },
        "id": "InjXbGPm9Way",
        "outputId": "677d3599-5e6a-450b-bbfb-cf18c9bb984d"
      },
      "outputs": [
        {
          "output_type": "execute_result",
          "data": {
            "text/plain": [
              "<matplotlib.axes._subplots.AxesSubplot at 0x7face1ad6690>"
            ]
          },
          "metadata": {},
          "execution_count": 234
        },
        {
          "output_type": "display_data",
          "data": {
            "text/plain": [
              "<Figure size 432x288 with 1 Axes>"
            ],
            "image/png": "[encoded data removed]"
          },
          "metadata": {
            "needs_background": "light"
          }
        }
      ],
      "source": [
        "import seaborn as sns\n",
        "sns.lineplot(x = training_loss,y = epoch_count)\n",
        "sns.lineplot(x = testing_loss,y = epoch_count)"
      ]
    },
    {
      "cell_type": "markdown",
      "metadata": {
        "id": "rQk_R5PO9c5L"
      },
      "source": [
        "## 4.Saving and Loading the data\n",
        "### `torch.save() is used to save a model in pickle format`\n",
        "### `torch.load() is used to load a model in pickle format`\n",
        "### `torch.nn.Module.load_state_dict() is used to load models state_dict`"
      ]
    },
    {
      "cell_type": "code",
      "execution_count": 235,
      "metadata": {
        "id": "y3DAPKuD9G5X",
        "colab": {
          "base_uri": "https://localhost:8080/"
        },
        "outputId": "91275399-7336-4b1f-bc08-1b423976967e"
      },
      "outputs": [
        {
          "output_type": "stream",
          "name": "stdout",
          "text": [
            "Models/01_Model_pytorch.pth\n"
          ]
        }
      ],
      "source": [
        "import pickle\n",
        "from pathlib import Path\n",
        "PATH_NAME = Path('Models')\n",
        "PATH_NAME.mkdir(parents = True,exist_ok = True)\n",
        "MODEL_NAME = '01_Model_pytorch.pth'\n",
        "MODEL_SAVE_PATH = PATH_NAME / MODEL_NAME\n",
        "torch.save(model_0.state_dict(),f = MODEL_SAVE_PATH)\n",
        "print(MODEL_SAVE_PATH)"
      ]
    },
    {
      "cell_type": "code",
      "execution_count": 236,
      "metadata": {
        "id": "AUch6jL6DyIp",
        "colab": {
          "base_uri": "https://localhost:8080/"
        },
        "outputId": "f65c3d06-208a-4482-c06c-69f41c6037f6"
      },
      "outputs": [
        {
          "output_type": "execute_result",
          "data": {
            "text/plain": [
              "OrderedDict([('linear_layer.weight', tensor([[0.8962]])),\n",
              "             ('linear_layer.bias', tensor([0.4990]))])"
            ]
          },
          "metadata": {},
          "execution_count": 236
        }
      ],
      "source": [
        "loaded_model = LinearRegressionModel()\n",
        "loaded_model.load_state_dict(torch.load(f=MODEL_SAVE_PATH))\n",
        "loaded_model.state_dict()"
      ]
    },
    {
      "cell_type": "code",
      "source": [
        "loaded_model_preds = loaded_model(X_test)\n",
        "prediction == loaded_model_preds"
      ],
      "metadata": {
        "id": "4TEdD3hpSmxs",
        "colab": {
          "base_uri": "https://localhost:8080/"
        },
        "outputId": "1c16f4ec-73b0-4f50-d579-5a2a27f84244"
      },
      "execution_count": 237,
      "outputs": [
        {
          "output_type": "execute_result",
          "data": {
            "text/plain": [
              "tensor([[True],\n",
              "        [True],\n",
              "        [True],\n",
              "        [True],\n",
              "        [True],\n",
              "        [True],\n",
              "        [True],\n",
              "        [True],\n",
              "        [True],\n",
              "        [True]])"
            ]
          },
          "metadata": {},
          "execution_count": 237
        }
      ]
    },
    {
      "cell_type": "code",
      "source": [
        "model = LinearRegressionModel()\n",
        "print(f'Old Parameters of the model: {model.state_dict()} ')\n",
        "model.load_state_dict(torch.load(f = MODEL_SAVE_PATH))"
      ],
      "metadata": {
        "colab": {
          "base_uri": "https://localhost:8080/"
        },
        "id": "XjouZTZunmWh",
        "outputId": "1aa9f9e1-34b7-4d49-bd25-6fc2bbfa3d44"
      },
      "execution_count": 238,
      "outputs": [
        {
          "output_type": "stream",
          "name": "stdout",
          "text": [
            "Old Parameters of the model: OrderedDict([('linear_layer.weight', tensor([[-0.2191]])), ('linear_layer.bias', tensor([0.2018]))]) \n"
          ]
        },
        {
          "output_type": "execute_result",
          "data": {
            "text/plain": [
              "<All keys matched successfully>"
            ]
          },
          "metadata": {},
          "execution_count": 238
        }
      ]
    },
    {
      "cell_type": "code",
      "source": [
        "model.state_dict()"
      ],
      "metadata": {
        "colab": {
          "base_uri": "https://localhost:8080/"
        },
        "id": "RaEqCJvkoKZb",
        "outputId": "6ac647eb-6458-4f6d-bbd7-835b3696068d"
      },
      "execution_count": 239,
      "outputs": [
        {
          "output_type": "execute_result",
          "data": {
            "text/plain": [
              "OrderedDict([('linear_layer.weight', tensor([[0.8962]])),\n",
              "             ('linear_layer.bias', tensor([0.4990]))])"
            ]
          },
          "metadata": {},
          "execution_count": 239
        }
      ]
    },
    {
      "cell_type": "code",
      "source": [
        "import torch\n",
        "from torch import nn\n",
        "import matplotlib.pyplot as plt \n",
        "torch.__version__"
      ],
      "metadata": {
        "colab": {
          "base_uri": "https://localhost:8080/",
          "height": 35
        },
        "id": "gS9j-OX5oXjd",
        "outputId": "d5c8e32a-8136-49a6-bd6f-3daea8bba8b2"
      },
      "execution_count": 240,
      "outputs": [
        {
          "output_type": "execute_result",
          "data": {
            "text/plain": [
              "'1.12.1+cu113'"
            ],
            "application/vnd.google.colaboratory.intrinsic+json": {
              "type": "string"
            }
          },
          "metadata": {},
          "execution_count": 240
        }
      ]
    },
    {
      "cell_type": "code",
      "source": [
        "device = 'cuda' if torch.cuda.is_available() else 'cpu'"
      ],
      "metadata": {
        "id": "ETkYMgE-rKHB"
      },
      "execution_count": 241,
      "outputs": []
    },
    {
      "cell_type": "code",
      "source": [
        "print(device)"
      ],
      "metadata": {
        "colab": {
          "base_uri": "https://localhost:8080/"
        },
        "id": "m4z2uPZgrbrq",
        "outputId": "61102846-33cb-451e-d8bc-8891a6633a16"
      },
      "execution_count": 242,
      "outputs": [
        {
          "output_type": "stream",
          "name": "stdout",
          "text": [
            "cuda\n"
          ]
        }
      ]
    },
    {
      "cell_type": "code",
      "source": [
        "class linear_reg(nn.Module):\n",
        "  def __init__(self):\n",
        "    super().__init__()\n",
        "    self.weights = nn.Parameter(torch.randn(1,\n",
        "                                            requires_grad=True,\n",
        "                                            dtype=torch.float))\n",
        "    self.bias = nn.Parameter(torch.randn(1,\n",
        "                                         requires_grad=True,\n",
        "                                         dtype = torch.float))\n",
        "  \n",
        "  def forward(self,x:torch.Tensor) -> torch.Tensor:\n",
        "     return x*self.weights +self.bias"
      ],
      "metadata": {
        "id": "4WK1leAtrv1K"
      },
      "execution_count": 243,
      "outputs": []
    },
    {
      "cell_type": "code",
      "source": [
        "torch.manual_seed(42)\n",
        "a = linear_reg()\n",
        "a.state_dict()"
      ],
      "metadata": {
        "colab": {
          "base_uri": "https://localhost:8080/"
        },
        "id": "FhWzxxV0tQcG",
        "outputId": "e3266e4f-3376-4200-8e28-8b02248e13bc"
      },
      "execution_count": 244,
      "outputs": [
        {
          "output_type": "execute_result",
          "data": {
            "text/plain": [
              "OrderedDict([('weights', tensor([0.3367])), ('bias', tensor([0.1288]))])"
            ]
          },
          "metadata": {},
          "execution_count": 244
        }
      ]
    },
    {
      "cell_type": "code",
      "source": [
        "a.to(device)"
      ],
      "metadata": {
        "colab": {
          "base_uri": "https://localhost:8080/"
        },
        "id": "FqQMAfwbu8FA",
        "outputId": "2c96dab7-f362-4178-d7b6-73883ecab766"
      },
      "execution_count": 245,
      "outputs": [
        {
          "output_type": "execute_result",
          "data": {
            "text/plain": [
              "linear_reg()"
            ]
          },
          "metadata": {},
          "execution_count": 245
        }
      ]
    },
    {
      "cell_type": "code",
      "source": [
        "next(a.parameters()).device"
      ],
      "metadata": {
        "colab": {
          "base_uri": "https://localhost:8080/"
        },
        "id": "4YYJSp7oxVxJ",
        "outputId": "2836c81c-80e9-44a2-eb00-455bba25d3d0"
      },
      "execution_count": 246,
      "outputs": [
        {
          "output_type": "execute_result",
          "data": {
            "text/plain": [
              "device(type='cuda', index=0)"
            ]
          },
          "metadata": {},
          "execution_count": 246
        }
      ]
    },
    {
      "cell_type": "code",
      "source": [
        "loss_1 = nn.L1Loss()\n",
        "optimizer = torch.optim.SGD(params = a.parameters(),lr = 0.01)"
      ],
      "metadata": {
        "id": "e2pWtnUtxdAF"
      },
      "execution_count": 247,
      "outputs": []
    },
    {
      "cell_type": "code",
      "source": [
        "torch.manual_seed(42)\n",
        "epochs = 200\n",
        "\n",
        "## putting data on gpu\n",
        "X_train = X_train.to(device)\n",
        "y_train = y_train.to(device)\n",
        "X_test = X_test.to(device)\n",
        "y_test = y_test.to(device)\n",
        "for epoch in range(epochs):\n",
        "  a.train()\n",
        "  y_pred = a(X_train)\n",
        "  loss = loss_1(y_pred,y_train)\n",
        "  optimizer.zero_grad()\n",
        "  loss.backward()\n",
        "  optimizer.step()\n",
        "  a.eval()\n",
        "  with torch.inference_mode():\n",
        "    predictions = a(X_test)\n",
        "    loss = loss_1(predictions,y_test)\n",
        "  if epoch%20 ==0:\n",
        "      print({loss})"
      ],
      "metadata": {
        "colab": {
          "base_uri": "https://localhost:8080/"
        },
        "id": "RbZV3uiXyD_E",
        "outputId": "d06d8b1f-6bf1-4682-d040-c6b70de10075"
      },
      "execution_count": 248,
      "outputs": [
        {
          "output_type": "stream",
          "name": "stdout",
          "text": [
            "{tensor(0.6897, device='cuda:0')}\n",
            "{tensor(0.4349, device='cuda:0')}\n",
            "{tensor(0.1848, device='cuda:0')}\n",
            "{tensor(0.0709, device='cuda:0')}\n",
            "{tensor(0.0481, device='cuda:0')}\n",
            "{tensor(0.0393, device='cuda:0')}\n",
            "{tensor(0.0305, device='cuda:0')}\n",
            "{tensor(0.0217, device='cuda:0')}\n",
            "{tensor(0.0131, device='cuda:0')}\n",
            "{tensor(0.0051, device='cuda:0')}\n"
          ]
        }
      ]
    },
    {
      "cell_type": "code",
      "source": [
        "predictions=predictions.cpu()\n",
        "y_test=y_test.cpu()\n",
        "line = torch.arange(0.6,2,0.3)\n",
        "line= line.cpu()\n",
        "\n",
        "plt.scatter(predictions,y_test)\n",
        "plt.plot(line,line)\n",
        "plt.show()"
      ],
      "metadata": {
        "colab": {
          "base_uri": "https://localhost:8080/",
          "height": 282
        },
        "id": "Qfqz4wPBziRE",
        "outputId": "67657c3c-23c3-47ea-e0b5-2a1a2239d860"
      },
      "execution_count": 249,
      "outputs": [
        {
          "output_type": "stream",
          "name": "stderr",
          "text": [
            "WARNING:matplotlib.legend:No handles with labels found to put in legend.\n"
          ]
        },
        {
          "output_type": "display_data",
          "data": {
            "text/plain": [
              "<Figure size 432x288 with 1 Axes>"
            ],
            "image/png": "[encoded data removed]"
          },
          "metadata": {
            "needs_background": "light"
          }
        }
      ]
    },
    {
      "cell_type": "code",
      "source": [
        "a.state_dict()"
      ],
      "metadata": {
        "colab": {
          "base_uri": "https://localhost:8080/"
        },
        "id": "zhgJ1D-04oZV",
        "outputId": "bb0f6a81-eb73-4cc7-e3a1-a9c66206c236"
      },
      "execution_count": 250,
      "outputs": [
        {
          "output_type": "execute_result",
          "data": {
            "text/plain": [
              "OrderedDict([('weights', tensor([0.9011], device='cuda:0')),\n",
              "             ('bias', tensor([0.5028], device='cuda:0'))])"
            ]
          },
          "metadata": {},
          "execution_count": 250
        }
      ]
    },
    {
      "cell_type": "code",
      "source": [],
      "metadata": {
        "id": "YiZ3d8T16Q-4"
      },
      "execution_count": 250,
      "outputs": []
    }
  ],
  "metadata": {
    "colab": {
      "collapsed_sections": [],
      "provenance": [],
      "authorship_tag": "ABX9TyOmMi3OBdFciDtZSYjX3qqB",
      "include_colab_link": true
    },
    "kernelspec": {
      "display_name": "Python 3",
      "name": "python3"
    },
    "language_info": {
      "name": "python"
    },
    "accelerator": "GPU"
  },
  "nbformat": 4,
  "nbformat_minor": 0
}