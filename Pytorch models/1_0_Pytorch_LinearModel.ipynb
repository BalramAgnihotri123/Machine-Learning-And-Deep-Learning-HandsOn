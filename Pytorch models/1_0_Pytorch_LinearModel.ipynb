{
  "cells": [
    {
      "cell_type": "markdown",
      "metadata": {
        "id": "view-in-github",
        "colab_type": "text"
      },
      "source": [
        "<a href=\"https://colab.research.google.com/github/BalramAgnihotri123/Machine-Learning-And-Deep-Learning-HandsOn/blob/main/1_0_Pytorch_LinearModel.ipynb\" target=\"_parent\"><img src=\"https://colab.research.google.com/assets/colab-badge.svg\" alt=\"Open In Colab\"/></a>"
      ]
    },
    {
      "cell_type": "markdown",
      "source": [
        "## 1.Importing relevent Liabraries"
      ],
      "metadata": {
        "id": "2yApiLxWN8Ry"
      }
    },
    {
      "cell_type": "code",
      "execution_count": null,
      "metadata": {
        "colab": {
          "base_uri": "https://localhost:8080/"
        },
        "id": "Z5cHU-v10nhC",
        "outputId": "a0e966dd-8a3b-4c1a-9cd7-712a4da869ec"
      },
      "outputs": [
        {
          "output_type": "stream",
          "name": "stdout",
          "text": [
            "1.12.1+cu113\n"
          ]
        }
      ],
      "source": [
        "import torch\n",
        "from torch import nn ## it contains all of torch's building blocks\n",
        "import matplotlib.pyplot as plt\n",
        "import pandas as pd\n",
        "import numpy as np\n",
        "import seaborn as sns \n",
        "import warnings\n",
        "warnings.filterwarnings('ignore')\n",
        "print(torch.__version__)"
      ]
    },
    {
      "cell_type": "markdown",
      "metadata": {
        "id": "0s_Z3Fun1pLZ"
      },
      "source": [
        "### 1.Data:- Preparing and Loading\n",
        "\n",
        "` Data can be of any form :-`\n",
        "1. `images`\n",
        "2. `voice/audio`\n",
        "3. `vidoes`\n",
        "4. `text`\n",
        "  "
      ]
    },
    {
      "cell_type": "code",
      "execution_count": null,
      "metadata": {
        "id": "1jCUosEpqi0b"
      },
      "outputs": [],
      "source": [
        "weight = 0.9\n",
        "bias = 0.5\n",
        "start = 0.0\n",
        "end = 1.0\n",
        "step  =  0.02\n",
        "X = torch.arange(start,end,step).unsqueeze(dim=1)\n",
        "y = weight*X +bias"
      ]
    },
    {
      "cell_type": "code",
      "execution_count": null,
      "metadata": {
        "id": "XPDU80gGtPw_"
      },
      "outputs": [],
      "source": [
        "from  sklearn.model_selection import train_test_split\n",
        "X_train,X_test,y_train,y_test = train_test_split(X,y,random_state = 42,test_size = 0.2)"
      ]
    },
    {
      "cell_type": "code",
      "execution_count": null,
      "metadata": {
        "colab": {
          "base_uri": "https://localhost:8080/",
          "height": 428
        },
        "id": "_1bGdis4vmL7",
        "outputId": "5d784f37-4f01-4ac7-f602-b3461d5792d4"
      },
      "outputs": [
        {
          "output_type": "display_data",
          "data": {
            "text/plain": [
              "<Figure size 720x504 with 1 Axes>"
            ],
            "image/png": "[encoded data removed]"
          },
          "metadata": {
            "needs_background": "light"
          }
        }
      ],
      "source": [
        "plt.figure(figsize =(10,7))\n",
        "plt.scatter(X,y)\n",
        "\n",
        "plt.show()"
      ]
    },
    {
      "cell_type": "markdown",
      "metadata": {
        "id": "9s4_qthlBZ6a"
      },
      "source": [
        "## 2.Initializing the model"
      ]
    },
    {
      "cell_type": "code",
      "execution_count": null,
      "metadata": {
        "id": "s64xRmR5wNDZ"
      },
      "outputs": [],
      "source": [
        "# Creating a sub-class of nn.Module and defining the parameters i.e, weights and biases along with that we overwright the forward function.\n",
        "\n",
        "class LinearRegressionModel(nn.Module):\n",
        "  \n",
        "  def __init__(self):\n",
        "    super().__init__()\n",
        "    # Linear_transformation, fully_connected_layer,probing_layer,dense_layer\n",
        "    self.linear_layer = nn.Linear(in_features = 1,out_features=1)\n",
        "  \n",
        "  def forward(self,x:torch.Tensor) -> torch.Tensor: \n",
        "    return self.linear_layer(x)"
      ]
    },
    {
      "cell_type": "code",
      "execution_count": null,
      "metadata": {
        "colab": {
          "base_uri": "https://localhost:8080/"
        },
        "id": "dBi4hE0c78en",
        "outputId": "b869adcc-ddd2-4a08-95e3-debb5d299f5a"
      },
      "outputs": [
        {
          "output_type": "execute_result",
          "data": {
            "text/plain": [
              "[Parameter containing:\n",
              " tensor([[0.7645]], requires_grad=True), Parameter containing:\n",
              " tensor([0.8300], requires_grad=True)]"
            ]
          },
          "metadata": {},
          "execution_count": 6
        }
      ],
      "source": [
        "# create a random Seed\n",
        "torch.manual_seed(42)\n",
        "\n",
        "# create an instance of the sub-class we created\n",
        "model_0 = LinearRegressionModel()\n",
        "\n",
        "# Checking the Parameter\n",
        "list(model_0.parameters())"
      ]
    },
    {
      "cell_type": "code",
      "execution_count": null,
      "metadata": {
        "colab": {
          "base_uri": "https://localhost:8080/"
        },
        "id": "4nvae-SFUiPx",
        "outputId": "353f55fc-9530-40be-f575-22a25aaeb203"
      },
      "outputs": [
        {
          "output_type": "execute_result",
          "data": {
            "text/plain": [
              "OrderedDict([('linear_layer.weight', tensor([[0.7645]])),\n",
              "             ('linear_layer.bias', tensor([0.8300]))])"
            ]
          },
          "metadata": {},
          "execution_count": 7
        }
      ],
      "source": [
        "model_0.state_dict()"
      ]
    },
    {
      "cell_type": "code",
      "execution_count": null,
      "metadata": {
        "id": "4aJpcNakhzDs"
      },
      "outputs": [],
      "source": [
        "#setting a loss function\n",
        "loss_fn = torch.nn.L1Loss()\n",
        "\n",
        "# setting up an optimizer\n",
        "optimizer = torch.optim.SGD(params=list(model_0.parameters()), lr = 0.02)"
      ]
    },
    {
      "cell_type": "markdown",
      "metadata": {
        "id": "kuNHqZXYBks3"
      },
      "source": [
        "### 2.1 Creating a training loop"
      ]
    },
    {
      "cell_type": "code",
      "execution_count": null,
      "metadata": {
        "colab": {
          "base_uri": "https://localhost:8080/"
        },
        "id": "-vaCmb9mh8wZ",
        "outputId": "5fa7a4fa-5010-49e8-d371-8dde523723ef"
      },
      "outputs": [
        {
          "output_type": "stream",
          "name": "stdout",
          "text": [
            "Epoch: 0 | loss: 0.2669505774974823 | Test_loss: 0.2248823195695877\n",
            "Epoch: 10 | loss: 0.0657433271408081 | Test_loss: 0.042829710990190506\n",
            "Epoch: 20 | loss: 0.049910955131053925 | Test_loss: 0.034173011779785156\n",
            "Epoch: 30 | loss: 0.03874649852514267 | Test_loss: 0.026412392035126686\n",
            "Epoch: 40 | loss: 0.027586067095398903 | Test_loss: 0.018550222739577293\n",
            "Epoch: 50 | loss: 0.016415711492300034 | Test_loss: 0.01068810187280178\n",
            "Epoch: 60 | loss: 0.005261165089905262 | Test_loss: 0.0029451847076416016\n",
            "Epoch: 70 | loss: 0.002761051757261157 | Test_loss: 0.022247564047574997\n",
            "Epoch: 80 | loss: 0.002761051757261157 | Test_loss: 0.022247564047574997\n",
            "Epoch: 90 | loss: 0.002761051757261157 | Test_loss: 0.022247564047574997\n"
          ]
        }
      ],
      "source": [
        "train_loss_values = []\n",
        "test_loss_values = []\n",
        "epoch_count = []\n",
        "epochs = 100\n",
        "for epoch in range(epochs):\n",
        "  # Training of the model\n",
        "  model_0.train()\n",
        "  y_pred = model_0(X_train) # forward\n",
        "  loss = loss_fn(y_pred,y_train) # setting the loss function\n",
        "  optimizer.zero_grad() # setting optimizer to zero grad i.e, \n",
        "  loss.backward() # backward propagation\n",
        "  optimizer.step() # perfoming the optimization step\n",
        "  \n",
        "  # testing out our model\n",
        "  model_0.eval()\n",
        "  with torch.inference_mode():\n",
        "    test_pred = model_0(X_test) # forward propagation\n",
        "    test_loss = loss_fn(test_pred,y_test)\n",
        "    if epoch%10 == 0:\n",
        "      test_loss_values.append(test_loss)\n",
        "      train_loss_values.append(loss)\n",
        "      epoch_count.append(epoch)\n",
        "      print(f\"Epoch: {epoch} | loss: {loss} | Test_loss: {test_loss}\" )"
      ]
    },
    {
      "cell_type": "code",
      "execution_count": null,
      "metadata": {
        "colab": {
          "base_uri": "https://localhost:8080/"
        },
        "id": "HF3kM3-754kk",
        "outputId": "2d4951b4-6bfb-442a-84f2-9f5c9ee22b40"
      },
      "outputs": [
        {
          "output_type": "execute_result",
          "data": {
            "text/plain": [
              "[Parameter containing:\n",
              " tensor([[0.8962]], requires_grad=True), Parameter containing:\n",
              " tensor([0.4990], requires_grad=True)]"
            ]
          },
          "metadata": {},
          "execution_count": 10
        }
      ],
      "source": [
        "list(model_0.parameters())"
      ]
    },
    {
      "cell_type": "markdown",
      "source": [
        "## 3.Visualizing our model results using matplotlib"
      ],
      "metadata": {
        "id": "qmwEdKoqOYQc"
      }
    },
    {
      "cell_type": "code",
      "execution_count": null,
      "metadata": {
        "id": "y4tGtD3-E-GB"
      },
      "outputs": [],
      "source": [
        "with torch.inference_mode():\n",
        "  prediction = model_0(X_test)"
      ]
    },
    {
      "cell_type": "code",
      "execution_count": null,
      "metadata": {
        "colab": {
          "base_uri": "https://localhost:8080/",
          "height": 279
        },
        "id": "tmXNS85nM-ce",
        "outputId": "7587abfd-8983-4c3b-bc72-7e155eca4cd7"
      },
      "outputs": [
        {
          "output_type": "display_data",
          "data": {
            "text/plain": [
              "<Figure size 432x288 with 1 Axes>"
            ],
            "image/png": "[encoded data removed]"
          },
          "metadata": {
            "needs_background": "light"
          }
        }
      ],
      "source": [
        "a = torch.arange(0,2,0.1)\n",
        "plt.scatter(prediction,y_test,c='g')\n",
        "plt.plot(a,a,c ='b')\n",
        "plt.xlabel('predictions by model')\n",
        "plt.ylabel('Actual values')\n",
        "plt.show()"
      ]
    },
    {
      "cell_type": "code",
      "execution_count": null,
      "metadata": {
        "colab": {
          "base_uri": "https://localhost:8080/"
        },
        "id": "AebK0ncONKH_",
        "outputId": "87302ccf-d634-453b-ee8a-f6f906884542"
      },
      "outputs": [
        {
          "output_type": "execute_result",
          "data": {
            "text/plain": [
              "([tensor(0.2670, grad_fn=<L1LossBackward0>),\n",
              "  tensor(0.0657, grad_fn=<L1LossBackward0>),\n",
              "  tensor(0.0499, grad_fn=<L1LossBackward0>),\n",
              "  tensor(0.0387, grad_fn=<L1LossBackward0>),\n",
              "  tensor(0.0276, grad_fn=<L1LossBackward0>),\n",
              "  tensor(0.0164, grad_fn=<L1LossBackward0>),\n",
              "  tensor(0.0053, grad_fn=<L1LossBackward0>),\n",
              "  tensor(0.0028, grad_fn=<L1LossBackward0>),\n",
              "  tensor(0.0028, grad_fn=<L1LossBackward0>),\n",
              "  tensor(0.0028, grad_fn=<L1LossBackward0>)],\n",
              " [tensor(0.2249),\n",
              "  tensor(0.0428),\n",
              "  tensor(0.0342),\n",
              "  tensor(0.0264),\n",
              "  tensor(0.0186),\n",
              "  tensor(0.0107),\n",
              "  tensor(0.0029),\n",
              "  tensor(0.0222),\n",
              "  tensor(0.0222),\n",
              "  tensor(0.0222)],\n",
              " [0, 10, 20, 30, 40, 50, 60, 70, 80, 90])"
            ]
          },
          "metadata": {},
          "execution_count": 13
        }
      ],
      "source": [
        "train_loss_values, test_loss_values, epoch_count"
      ]
    },
    {
      "cell_type": "code",
      "execution_count": null,
      "metadata": {
        "id": "WdvZnRNiotI-"
      },
      "outputs": [],
      "source": [
        "training_loss = torch.tensor(train_loss_values).numpy()\n",
        "testing_loss = torch.tensor(test_loss_values).numpy()"
      ]
    },
    {
      "cell_type": "code",
      "execution_count": null,
      "metadata": {
        "colab": {
          "base_uri": "https://localhost:8080/",
          "height": 282
        },
        "id": "InjXbGPm9Way",
        "outputId": "b5beb04e-efd2-4a24-d1fa-26f38d18f6d5"
      },
      "outputs": [
        {
          "output_type": "execute_result",
          "data": {
            "text/plain": [
              "<matplotlib.axes._subplots.AxesSubplot at 0x7fa3e13a4e10>"
            ]
          },
          "metadata": {},
          "execution_count": 15
        },
        {
          "output_type": "display_data",
          "data": {
            "text/plain": [
              "<Figure size 432x288 with 1 Axes>"
            ],
            "image/png": "[encoded data removed]"
          },
          "metadata": {
            "needs_background": "light"
          }
        }
      ],
      "source": [
        "import seaborn as sns\n",
        "sns.lineplot(x = training_loss,y = epoch_count)\n",
        "sns.lineplot(x = testing_loss,y = epoch_count)"
      ]
    },
    {
      "cell_type": "markdown",
      "metadata": {
        "id": "rQk_R5PO9c5L"
      },
      "source": [
        "## 4.Saving and Loading the data\n",
        "### `torch.save() is used to save a model in pickle format`\n",
        "### `torch.load() is used to load a model in pickle format`\n",
        "### `torch.nn.Module.load_state_dict() is used to load models state_dict`"
      ]
    },
    {
      "cell_type": "code",
      "execution_count": null,
      "metadata": {
        "id": "y3DAPKuD9G5X",
        "colab": {
          "base_uri": "https://localhost:8080/"
        },
        "outputId": "bae8cde1-ca8c-42aa-c066-eecc7ac0e827"
      },
      "outputs": [
        {
          "output_type": "stream",
          "name": "stdout",
          "text": [
            "Models/01_Model_pytorch.pth\n"
          ]
        }
      ],
      "source": [
        "import pickle\n",
        "from pathlib import Path\n",
        "PATH_NAME = Path('Models')\n",
        "PATH_NAME.mkdir(parents = True,exist_ok = True)\n",
        "MODEL_NAME = '01_Model_pytorch.pth'\n",
        "MODEL_SAVE_PATH = PATH_NAME / MODEL_NAME\n",
        "torch.save(model_0.state_dict(),f = MODEL_SAVE_PATH)\n",
        "print(MODEL_SAVE_PATH)"
      ]
    },
    {
      "cell_type": "code",
      "execution_count": null,
      "metadata": {
        "id": "AUch6jL6DyIp",
        "colab": {
          "base_uri": "https://localhost:8080/"
        },
        "outputId": "7b79c4cb-7a4a-48fd-9ccd-0e3a785e066d"
      },
      "outputs": [
        {
          "output_type": "execute_result",
          "data": {
            "text/plain": [
              "OrderedDict([('linear_layer.weight', tensor([[0.8962]])),\n",
              "             ('linear_layer.bias', tensor([0.4990]))])"
            ]
          },
          "metadata": {},
          "execution_count": 17
        }
      ],
      "source": [
        "loaded_model = LinearRegressionModel()\n",
        "loaded_model.load_state_dict(torch.load(f=MODEL_SAVE_PATH))\n",
        "loaded_model.state_dict()"
      ]
    },
    {
      "cell_type": "code",
      "source": [
        "loaded_model_preds = loaded_model(X_test)\n",
        "prediction == loaded_model_preds"
      ],
      "metadata": {
        "id": "4TEdD3hpSmxs",
        "colab": {
          "base_uri": "https://localhost:8080/"
        },
        "outputId": "d88abc57-1faf-4fd0-98eb-0c903386dba1"
      },
      "execution_count": null,
      "outputs": [
        {
          "output_type": "execute_result",
          "data": {
            "text/plain": [
              "tensor([[True],\n",
              "        [True],\n",
              "        [True],\n",
              "        [True],\n",
              "        [True],\n",
              "        [True],\n",
              "        [True],\n",
              "        [True],\n",
              "        [True],\n",
              "        [True]])"
            ]
          },
          "metadata": {},
          "execution_count": 18
        }
      ]
    }
  ],
  "metadata": {
    "colab": {
      "collapsed_sections": [
        "2yApiLxWN8Ry",
        "0s_Z3Fun1pLZ"
      ],
      "provenance": [],
      "authorship_tag": "ABX9TyNqywTBbGmrvEwqIKMKDy2R",
      "include_colab_link": true
    },
    "kernelspec": {
      "display_name": "Python 3",
      "name": "python3"
    },
    "language_info": {
      "name": "python"
    },
    "accelerator": "GPU"
  },
  "nbformat": 4,
  "nbformat_minor": 0
}