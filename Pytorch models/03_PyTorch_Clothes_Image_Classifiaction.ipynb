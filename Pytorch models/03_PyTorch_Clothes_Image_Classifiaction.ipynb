{
  "nbformat": 4,
  "nbformat_minor": 0,
  "metadata": {
    "colab": {
      "provenance": [],
      "collapsed_sections": [],
      "authorship_tag": "ABX9TyNq19BYxUeaIYONBfm7s8fc",
      "include_colab_link": true
    },
    "kernelspec": {
      "name": "python3",
      "display_name": "Python 3"
    },
    "language_info": {
      "name": "python"
    },
    "widgets": {
      "application/vnd.jupyter.widget-state+json": {
        "f7a97b6f77354118b7e3c20e2f57d6a3": {
          "model_module": "@jupyter-widgets/controls",
          "model_name": "HBoxModel",
          "model_module_version": "1.5.0",
          "state": {
            "_dom_classes": [],
            "_model_module": "@jupyter-widgets/controls",
            "_model_module_version": "1.5.0",
            "_model_name": "HBoxModel",
            "_view_count": null,
            "_view_module": "@jupyter-widgets/controls",
            "_view_module_version": "1.5.0",
            "_view_name": "HBoxView",
            "box_style": "",
            "children": [
              "IPY_MODEL_0bce39c5c2e44b7ca0ff2df127f56bbb",
              "IPY_MODEL_be9f1745788144a09fd98e0764035fce",
              "IPY_MODEL_a7631d23a7114a9c8bf53645c825be58"
            ],
            "layout": "IPY_MODEL_aa6f6fa0408c497cab732e1637a2722d"
          }
        },
        "0bce39c5c2e44b7ca0ff2df127f56bbb": {
          "model_module": "@jupyter-widgets/controls",
          "model_name": "HTMLModel",
          "model_module_version": "1.5.0",
          "state": {
            "_dom_classes": [],
            "_model_module": "@jupyter-widgets/controls",
            "_model_module_version": "1.5.0",
            "_model_name": "HTMLModel",
            "_view_count": null,
            "_view_module": "@jupyter-widgets/controls",
            "_view_module_version": "1.5.0",
            "_view_name": "HTMLView",
            "description": "",
            "description_tooltip": null,
            "layout": "IPY_MODEL_433e199438034d2b8f1ac421f114459c",
            "placeholder": "​",
            "style": "IPY_MODEL_21a7dbe532714c40945c9af9b4f0744d",
            "value": "100%"
          }
        },
        "be9f1745788144a09fd98e0764035fce": {
          "model_module": "@jupyter-widgets/controls",
          "model_name": "FloatProgressModel",
          "model_module_version": "1.5.0",
          "state": {
            "_dom_classes": [],
            "_model_module": "@jupyter-widgets/controls",
            "_model_module_version": "1.5.0",
            "_model_name": "FloatProgressModel",
            "_view_count": null,
            "_view_module": "@jupyter-widgets/controls",
            "_view_module_version": "1.5.0",
            "_view_name": "ProgressView",
            "bar_style": "success",
            "description": "",
            "description_tooltip": null,
            "layout": "IPY_MODEL_ba9f76cb05884bef91b649749a4c0b23",
            "max": 6,
            "min": 0,
            "orientation": "horizontal",
            "style": "IPY_MODEL_7cdf437f08524486860bb9d8b3ec201c",
            "value": 6
          }
        },
        "a7631d23a7114a9c8bf53645c825be58": {
          "model_module": "@jupyter-widgets/controls",
          "model_name": "HTMLModel",
          "model_module_version": "1.5.0",
          "state": {
            "_dom_classes": [],
            "_model_module": "@jupyter-widgets/controls",
            "_model_module_version": "1.5.0",
            "_model_name": "HTMLModel",
            "_view_count": null,
            "_view_module": "@jupyter-widgets/controls",
            "_view_module_version": "1.5.0",
            "_view_name": "HTMLView",
            "description": "",
            "description_tooltip": null,
            "layout": "IPY_MODEL_e4108bcd56874ab8b1ed36d60a59010e",
            "placeholder": "​",
            "style": "IPY_MODEL_2662447333cf4c14a0595620dadadce5",
            "value": " 6/6 [01:08&lt;00:00, 10.26s/it]"
          }
        },
        "aa6f6fa0408c497cab732e1637a2722d": {
          "model_module": "@jupyter-widgets/base",
          "model_name": "LayoutModel",
          "model_module_version": "1.2.0",
          "state": {
            "_model_module": "@jupyter-widgets/base",
            "_model_module_version": "1.2.0",
            "_model_name": "LayoutModel",
            "_view_count": null,
            "_view_module": "@jupyter-widgets/base",
            "_view_module_version": "1.2.0",
            "_view_name": "LayoutView",
            "align_content": null,
            "align_items": null,
            "align_self": null,
            "border": null,
            "bottom": null,
            "display": null,
            "flex": null,
            "flex_flow": null,
            "grid_area": null,
            "grid_auto_columns": null,
            "grid_auto_flow": null,
            "grid_auto_rows": null,
            "grid_column": null,
            "grid_gap": null,
            "grid_row": null,
            "grid_template_areas": null,
            "grid_template_columns": null,
            "grid_template_rows": null,
            "height": null,
            "justify_content": null,
            "justify_items": null,
            "left": null,
            "margin": null,
            "max_height": null,
            "max_width": null,
            "min_height": null,
            "min_width": null,
            "object_fit": null,
            "object_position": null,
            "order": null,
            "overflow": null,
            "overflow_x": null,
            "overflow_y": null,
            "padding": null,
            "right": null,
            "top": null,
            "visibility": null,
            "width": null
          }
        },
        "433e199438034d2b8f1ac421f114459c": {
          "model_module": "@jupyter-widgets/base",
          "model_name": "LayoutModel",
          "model_module_version": "1.2.0",
          "state": {
            "_model_module": "@jupyter-widgets/base",
            "_model_module_version": "1.2.0",
            "_model_name": "LayoutModel",
            "_view_count": null,
            "_view_module": "@jupyter-widgets/base",
            "_view_module_version": "1.2.0",
            "_view_name": "LayoutView",
            "align_content": null,
            "align_items": null,
            "align_self": null,
            "border": null,
            "bottom": null,
            "display": null,
            "flex": null,
            "flex_flow": null,
            "grid_area": null,
            "grid_auto_columns": null,
            "grid_auto_flow": null,
            "grid_auto_rows": null,
            "grid_column": null,
            "grid_gap": null,
            "grid_row": null,
            "grid_template_areas": null,
            "grid_template_columns": null,
            "grid_template_rows": null,
            "height": null,
            "justify_content": null,
            "justify_items": null,
            "left": null,
            "margin": null,
            "max_height": null,
            "max_width": null,
            "min_height": null,
            "min_width": null,
            "object_fit": null,
            "object_position": null,
            "order": null,
            "overflow": null,
            "overflow_x": null,
            "overflow_y": null,
            "padding": null,
            "right": null,
            "top": null,
            "visibility": null,
            "width": null
          }
        },
        "21a7dbe532714c40945c9af9b4f0744d": {
          "model_module": "@jupyter-widgets/controls",
          "model_name": "DescriptionStyleModel",
          "model_module_version": "1.5.0",
          "state": {
            "_model_module": "@jupyter-widgets/controls",
            "_model_module_version": "1.5.0",
            "_model_name": "DescriptionStyleModel",
            "_view_count": null,
            "_view_module": "@jupyter-widgets/base",
            "_view_module_version": "1.2.0",
            "_view_name": "StyleView",
            "description_width": ""
          }
        },
        "ba9f76cb05884bef91b649749a4c0b23": {
          "model_module": "@jupyter-widgets/base",
          "model_name": "LayoutModel",
          "model_module_version": "1.2.0",
          "state": {
            "_model_module": "@jupyter-widgets/base",
            "_model_module_version": "1.2.0",
            "_model_name": "LayoutModel",
            "_view_count": null,
            "_view_module": "@jupyter-widgets/base",
            "_view_module_version": "1.2.0",
            "_view_name": "LayoutView",
            "align_content": null,
            "align_items": null,
            "align_self": null,
            "border": null,
            "bottom": null,
            "display": null,
            "flex": null,
            "flex_flow": null,
            "grid_area": null,
            "grid_auto_columns": null,
            "grid_auto_flow": null,
            "grid_auto_rows": null,
            "grid_column": null,
            "grid_gap": null,
            "grid_row": null,
            "grid_template_areas": null,
            "grid_template_columns": null,
            "grid_template_rows": null,
            "height": null,
            "justify_content": null,
            "justify_items": null,
            "left": null,
            "margin": null,
            "max_height": null,
            "max_width": null,
            "min_height": null,
            "min_width": null,
            "object_fit": null,
            "object_position": null,
            "order": null,
            "overflow": null,
            "overflow_x": null,
            "overflow_y": null,
            "padding": null,
            "right": null,
            "top": null,
            "visibility": null,
            "width": null
          }
        },
        "7cdf437f08524486860bb9d8b3ec201c": {
          "model_module": "@jupyter-widgets/controls",
          "model_name": "ProgressStyleModel",
          "model_module_version": "1.5.0",
          "state": {
            "_model_module": "@jupyter-widgets/controls",
            "_model_module_version": "1.5.0",
            "_model_name": "ProgressStyleModel",
            "_view_count": null,
            "_view_module": "@jupyter-widgets/base",
            "_view_module_version": "1.2.0",
            "_view_name": "StyleView",
            "bar_color": null,
            "description_width": ""
          }
        },
        "e4108bcd56874ab8b1ed36d60a59010e": {
          "model_module": "@jupyter-widgets/base",
          "model_name": "LayoutModel",
          "model_module_version": "1.2.0",
          "state": {
            "_model_module": "@jupyter-widgets/base",
            "_model_module_version": "1.2.0",
            "_model_name": "LayoutModel",
            "_view_count": null,
            "_view_module": "@jupyter-widgets/base",
            "_view_module_version": "1.2.0",
            "_view_name": "LayoutView",
            "align_content": null,
            "align_items": null,
            "align_self": null,
            "border": null,
            "bottom": null,
            "display": null,
            "flex": null,
            "flex_flow": null,
            "grid_area": null,
            "grid_auto_columns": null,
            "grid_auto_flow": null,
            "grid_auto_rows": null,
            "grid_column": null,
            "grid_gap": null,
            "grid_row": null,
            "grid_template_areas": null,
            "grid_template_columns": null,
            "grid_template_rows": null,
            "height": null,
            "justify_content": null,
            "justify_items": null,
            "left": null,
            "margin": null,
            "max_height": null,
            "max_width": null,
            "min_height": null,
            "min_width": null,
            "object_fit": null,
            "object_position": null,
            "order": null,
            "overflow": null,
            "overflow_x": null,
            "overflow_y": null,
            "padding": null,
            "right": null,
            "top": null,
            "visibility": null,
            "width": null
          }
        },
        "2662447333cf4c14a0595620dadadce5": {
          "model_module": "@jupyter-widgets/controls",
          "model_name": "DescriptionStyleModel",
          "model_module_version": "1.5.0",
          "state": {
            "_model_module": "@jupyter-widgets/controls",
            "_model_module_version": "1.5.0",
            "_model_name": "DescriptionStyleModel",
            "_view_count": null,
            "_view_module": "@jupyter-widgets/base",
            "_view_module_version": "1.2.0",
            "_view_name": "StyleView",
            "description_width": ""
          }
        },
        "32c0484ed7194bbcbc2639376610a088": {
          "model_module": "@jupyter-widgets/controls",
          "model_name": "HBoxModel",
          "model_module_version": "1.5.0",
          "state": {
            "_dom_classes": [],
            "_model_module": "@jupyter-widgets/controls",
            "_model_module_version": "1.5.0",
            "_model_name": "HBoxModel",
            "_view_count": null,
            "_view_module": "@jupyter-widgets/controls",
            "_view_module_version": "1.5.0",
            "_view_name": "HBoxView",
            "box_style": "",
            "children": [
              "IPY_MODEL_afa2225f4fa24f4db4c85792b90d894c",
              "IPY_MODEL_55464b2649c34705a1cc35d53fbfbd38",
              "IPY_MODEL_e447c09a79bf4bfc960c0fc6925d728e"
            ],
            "layout": "IPY_MODEL_1b0c5a073a174bd290c7eb73accd8ca4"
          }
        },
        "afa2225f4fa24f4db4c85792b90d894c": {
          "model_module": "@jupyter-widgets/controls",
          "model_name": "HTMLModel",
          "model_module_version": "1.5.0",
          "state": {
            "_dom_classes": [],
            "_model_module": "@jupyter-widgets/controls",
            "_model_module_version": "1.5.0",
            "_model_name": "HTMLModel",
            "_view_count": null,
            "_view_module": "@jupyter-widgets/controls",
            "_view_module_version": "1.5.0",
            "_view_name": "HTMLView",
            "description": "",
            "description_tooltip": null,
            "layout": "IPY_MODEL_212a79f770e6444aaa5084aa1adfc271",
            "placeholder": "​",
            "style": "IPY_MODEL_7abea84f6c454ad4a8882bdc661ba9c4",
            "value": "100%"
          }
        },
        "55464b2649c34705a1cc35d53fbfbd38": {
          "model_module": "@jupyter-widgets/controls",
          "model_name": "FloatProgressModel",
          "model_module_version": "1.5.0",
          "state": {
            "_dom_classes": [],
            "_model_module": "@jupyter-widgets/controls",
            "_model_module_version": "1.5.0",
            "_model_name": "FloatProgressModel",
            "_view_count": null,
            "_view_module": "@jupyter-widgets/controls",
            "_view_module_version": "1.5.0",
            "_view_name": "ProgressView",
            "bar_style": "success",
            "description": "",
            "description_tooltip": null,
            "layout": "IPY_MODEL_412ad25d8b5d468f9fdb0961f011d301",
            "max": 6,
            "min": 0,
            "orientation": "horizontal",
            "style": "IPY_MODEL_49f7eb8b7c234f4e9aab9e80915cc492",
            "value": 6
          }
        },
        "e447c09a79bf4bfc960c0fc6925d728e": {
          "model_module": "@jupyter-widgets/controls",
          "model_name": "HTMLModel",
          "model_module_version": "1.5.0",
          "state": {
            "_dom_classes": [],
            "_model_module": "@jupyter-widgets/controls",
            "_model_module_version": "1.5.0",
            "_model_name": "HTMLModel",
            "_view_count": null,
            "_view_module": "@jupyter-widgets/controls",
            "_view_module_version": "1.5.0",
            "_view_name": "HTMLView",
            "description": "",
            "description_tooltip": null,
            "layout": "IPY_MODEL_8146c891a98740649c1ac9eaa0f32aa8",
            "placeholder": "​",
            "style": "IPY_MODEL_36348002a72546d0a916afbfe32ceb88",
            "value": " 6/6 [00:50&lt;00:00,  8.46s/it]"
          }
        },
        "1b0c5a073a174bd290c7eb73accd8ca4": {
          "model_module": "@jupyter-widgets/base",
          "model_name": "LayoutModel",
          "model_module_version": "1.2.0",
          "state": {
            "_model_module": "@jupyter-widgets/base",
            "_model_module_version": "1.2.0",
            "_model_name": "LayoutModel",
            "_view_count": null,
            "_view_module": "@jupyter-widgets/base",
            "_view_module_version": "1.2.0",
            "_view_name": "LayoutView",
            "align_content": null,
            "align_items": null,
            "align_self": null,
            "border": null,
            "bottom": null,
            "display": null,
            "flex": null,
            "flex_flow": null,
            "grid_area": null,
            "grid_auto_columns": null,
            "grid_auto_flow": null,
            "grid_auto_rows": null,
            "grid_column": null,
            "grid_gap": null,
            "grid_row": null,
            "grid_template_areas": null,
            "grid_template_columns": null,
            "grid_template_rows": null,
            "height": null,
            "justify_content": null,
            "justify_items": null,
            "left": null,
            "margin": null,
            "max_height": null,
            "max_width": null,
            "min_height": null,
            "min_width": null,
            "object_fit": null,
            "object_position": null,
            "order": null,
            "overflow": null,
            "overflow_x": null,
            "overflow_y": null,
            "padding": null,
            "right": null,
            "top": null,
            "visibility": null,
            "width": null
          }
        },
        "212a79f770e6444aaa5084aa1adfc271": {
          "model_module": "@jupyter-widgets/base",
          "model_name": "LayoutModel",
          "model_module_version": "1.2.0",
          "state": {
            "_model_module": "@jupyter-widgets/base",
            "_model_module_version": "1.2.0",
            "_model_name": "LayoutModel",
            "_view_count": null,
            "_view_module": "@jupyter-widgets/base",
            "_view_module_version": "1.2.0",
            "_view_name": "LayoutView",
            "align_content": null,
            "align_items": null,
            "align_self": null,
            "border": null,
            "bottom": null,
            "display": null,
            "flex": null,
            "flex_flow": null,
            "grid_area": null,
            "grid_auto_columns": null,
            "grid_auto_flow": null,
            "grid_auto_rows": null,
            "grid_column": null,
            "grid_gap": null,
            "grid_row": null,
            "grid_template_areas": null,
            "grid_template_columns": null,
            "grid_template_rows": null,
            "height": null,
            "justify_content": null,
            "justify_items": null,
            "left": null,
            "margin": null,
            "max_height": null,
            "max_width": null,
            "min_height": null,
            "min_width": null,
            "object_fit": null,
            "object_position": null,
            "order": null,
            "overflow": null,
            "overflow_x": null,
            "overflow_y": null,
            "padding": null,
            "right": null,
            "top": null,
            "visibility": null,
            "width": null
          }
        },
        "7abea84f6c454ad4a8882bdc661ba9c4": {
          "model_module": "@jupyter-widgets/controls",
          "model_name": "DescriptionStyleModel",
          "model_module_version": "1.5.0",
          "state": {
            "_model_module": "@jupyter-widgets/controls",
            "_model_module_version": "1.5.0",
            "_model_name": "DescriptionStyleModel",
            "_view_count": null,
            "_view_module": "@jupyter-widgets/base",
            "_view_module_version": "1.2.0",
            "_view_name": "StyleView",
            "description_width": ""
          }
        },
        "412ad25d8b5d468f9fdb0961f011d301": {
          "model_module": "@jupyter-widgets/base",
          "model_name": "LayoutModel",
          "model_module_version": "1.2.0",
          "state": {
            "_model_module": "@jupyter-widgets/base",
            "_model_module_version": "1.2.0",
            "_model_name": "LayoutModel",
            "_view_count": null,
            "_view_module": "@jupyter-widgets/base",
            "_view_module_version": "1.2.0",
            "_view_name": "LayoutView",
            "align_content": null,
            "align_items": null,
            "align_self": null,
            "border": null,
            "bottom": null,
            "display": null,
            "flex": null,
            "flex_flow": null,
            "grid_area": null,
            "grid_auto_columns": null,
            "grid_auto_flow": null,
            "grid_auto_rows": null,
            "grid_column": null,
            "grid_gap": null,
            "grid_row": null,
            "grid_template_areas": null,
            "grid_template_columns": null,
            "grid_template_rows": null,
            "height": null,
            "justify_content": null,
            "justify_items": null,
            "left": null,
            "margin": null,
            "max_height": null,
            "max_width": null,
            "min_height": null,
            "min_width": null,
            "object_fit": null,
            "object_position": null,
            "order": null,
            "overflow": null,
            "overflow_x": null,
            "overflow_y": null,
            "padding": null,
            "right": null,
            "top": null,
            "visibility": null,
            "width": null
          }
        },
        "49f7eb8b7c234f4e9aab9e80915cc492": {
          "model_module": "@jupyter-widgets/controls",
          "model_name": "ProgressStyleModel",
          "model_module_version": "1.5.0",
          "state": {
            "_model_module": "@jupyter-widgets/controls",
            "_model_module_version": "1.5.0",
            "_model_name": "ProgressStyleModel",
            "_view_count": null,
            "_view_module": "@jupyter-widgets/base",
            "_view_module_version": "1.2.0",
            "_view_name": "StyleView",
            "bar_color": null,
            "description_width": ""
          }
        },
        "8146c891a98740649c1ac9eaa0f32aa8": {
          "model_module": "@jupyter-widgets/base",
          "model_name": "LayoutModel",
          "model_module_version": "1.2.0",
          "state": {
            "_model_module": "@jupyter-widgets/base",
            "_model_module_version": "1.2.0",
            "_model_name": "LayoutModel",
            "_view_count": null,
            "_view_module": "@jupyter-widgets/base",
            "_view_module_version": "1.2.0",
            "_view_name": "LayoutView",
            "align_content": null,
            "align_items": null,
            "align_self": null,
            "border": null,
            "bottom": null,
            "display": null,
            "flex": null,
            "flex_flow": null,
            "grid_area": null,
            "grid_auto_columns": null,
            "grid_auto_flow": null,
            "grid_auto_rows": null,
            "grid_column": null,
            "grid_gap": null,
            "grid_row": null,
            "grid_template_areas": null,
            "grid_template_columns": null,
            "grid_template_rows": null,
            "height": null,
            "justify_content": null,
            "justify_items": null,
            "left": null,
            "margin": null,
            "max_height": null,
            "max_width": null,
            "min_height": null,
            "min_width": null,
            "object_fit": null,
            "object_position": null,
            "order": null,
            "overflow": null,
            "overflow_x": null,
            "overflow_y": null,
            "padding": null,
            "right": null,
            "top": null,
            "visibility": null,
            "width": null
          }
        },
        "36348002a72546d0a916afbfe32ceb88": {
          "model_module": "@jupyter-widgets/controls",
          "model_name": "DescriptionStyleModel",
          "model_module_version": "1.5.0",
          "state": {
            "_model_module": "@jupyter-widgets/controls",
            "_model_module_version": "1.5.0",
            "_model_name": "DescriptionStyleModel",
            "_view_count": null,
            "_view_module": "@jupyter-widgets/base",
            "_view_module_version": "1.2.0",
            "_view_name": "StyleView",
            "description_width": ""
          }
        },
        "66d6beb1e5c74ad9b36471fc15899490": {
          "model_module": "@jupyter-widgets/controls",
          "model_name": "HBoxModel",
          "model_module_version": "1.5.0",
          "state": {
            "_dom_classes": [],
            "_model_module": "@jupyter-widgets/controls",
            "_model_module_version": "1.5.0",
            "_model_name": "HBoxModel",
            "_view_count": null,
            "_view_module": "@jupyter-widgets/controls",
            "_view_module_version": "1.5.0",
            "_view_name": "HBoxView",
            "box_style": "",
            "children": [
              "IPY_MODEL_05af15c4042c4f1c9f9747beaeee527c",
              "IPY_MODEL_d8660c026b3c474f8a22e66bdd8511d6",
              "IPY_MODEL_a57ad2aa54f3460b8063d678e0877d6b"
            ],
            "layout": "IPY_MODEL_574bb99e438845eda1f8206d1ac6827d"
          }
        },
        "05af15c4042c4f1c9f9747beaeee527c": {
          "model_module": "@jupyter-widgets/controls",
          "model_name": "HTMLModel",
          "model_module_version": "1.5.0",
          "state": {
            "_dom_classes": [],
            "_model_module": "@jupyter-widgets/controls",
            "_model_module_version": "1.5.0",
            "_model_name": "HTMLModel",
            "_view_count": null,
            "_view_module": "@jupyter-widgets/controls",
            "_view_module_version": "1.5.0",
            "_view_name": "HTMLView",
            "description": "",
            "description_tooltip": null,
            "layout": "IPY_MODEL_e02ce7f2139a4c839a340e9389f2d6c6",
            "placeholder": "​",
            "style": "IPY_MODEL_d702e05b0dfe47b39d667e147be400eb",
            "value": "100%"
          }
        },
        "d8660c026b3c474f8a22e66bdd8511d6": {
          "model_module": "@jupyter-widgets/controls",
          "model_name": "FloatProgressModel",
          "model_module_version": "1.5.0",
          "state": {
            "_dom_classes": [],
            "_model_module": "@jupyter-widgets/controls",
            "_model_module_version": "1.5.0",
            "_model_name": "FloatProgressModel",
            "_view_count": null,
            "_view_module": "@jupyter-widgets/controls",
            "_view_module_version": "1.5.0",
            "_view_name": "ProgressView",
            "bar_style": "success",
            "description": "",
            "description_tooltip": null,
            "layout": "IPY_MODEL_f56542f1a1b74ff8a4b986f4db090977",
            "max": 6,
            "min": 0,
            "orientation": "horizontal",
            "style": "IPY_MODEL_a4bfc0c9c621449c81170e2f92649503",
            "value": 6
          }
        },
        "a57ad2aa54f3460b8063d678e0877d6b": {
          "model_module": "@jupyter-widgets/controls",
          "model_name": "HTMLModel",
          "model_module_version": "1.5.0",
          "state": {
            "_dom_classes": [],
            "_model_module": "@jupyter-widgets/controls",
            "_model_module_version": "1.5.0",
            "_model_name": "HTMLModel",
            "_view_count": null,
            "_view_module": "@jupyter-widgets/controls",
            "_view_module_version": "1.5.0",
            "_view_name": "HTMLView",
            "description": "",
            "description_tooltip": null,
            "layout": "IPY_MODEL_86d82fe944734cc19a301efeb9d1456c",
            "placeholder": "​",
            "style": "IPY_MODEL_eeac92ef77b741bdb431ae97bbe4c472",
            "value": " 6/6 [05:24&lt;00:00, 53.01s/it]"
          }
        },
        "574bb99e438845eda1f8206d1ac6827d": {
          "model_module": "@jupyter-widgets/base",
          "model_name": "LayoutModel",
          "model_module_version": "1.2.0",
          "state": {
            "_model_module": "@jupyter-widgets/base",
            "_model_module_version": "1.2.0",
            "_model_name": "LayoutModel",
            "_view_count": null,
            "_view_module": "@jupyter-widgets/base",
            "_view_module_version": "1.2.0",
            "_view_name": "LayoutView",
            "align_content": null,
            "align_items": null,
            "align_self": null,
            "border": null,
            "bottom": null,
            "display": null,
            "flex": null,
            "flex_flow": null,
            "grid_area": null,
            "grid_auto_columns": null,
            "grid_auto_flow": null,
            "grid_auto_rows": null,
            "grid_column": null,
            "grid_gap": null,
            "grid_row": null,
            "grid_template_areas": null,
            "grid_template_columns": null,
            "grid_template_rows": null,
            "height": null,
            "justify_content": null,
            "justify_items": null,
            "left": null,
            "margin": null,
            "max_height": null,
            "max_width": null,
            "min_height": null,
            "min_width": null,
            "object_fit": null,
            "object_position": null,
            "order": null,
            "overflow": null,
            "overflow_x": null,
            "overflow_y": null,
            "padding": null,
            "right": null,
            "top": null,
            "visibility": null,
            "width": null
          }
        },
        "e02ce7f2139a4c839a340e9389f2d6c6": {
          "model_module": "@jupyter-widgets/base",
          "model_name": "LayoutModel",
          "model_module_version": "1.2.0",
          "state": {
            "_model_module": "@jupyter-widgets/base",
            "_model_module_version": "1.2.0",
            "_model_name": "LayoutModel",
            "_view_count": null,
            "_view_module": "@jupyter-widgets/base",
            "_view_module_version": "1.2.0",
            "_view_name": "LayoutView",
            "align_content": null,
            "align_items": null,
            "align_self": null,
            "border": null,
            "bottom": null,
            "display": null,
            "flex": null,
            "flex_flow": null,
            "grid_area": null,
            "grid_auto_columns": null,
            "grid_auto_flow": null,
            "grid_auto_rows": null,
            "grid_column": null,
            "grid_gap": null,
            "grid_row": null,
            "grid_template_areas": null,
            "grid_template_columns": null,
            "grid_template_rows": null,
            "height": null,
            "justify_content": null,
            "justify_items": null,
            "left": null,
            "margin": null,
            "max_height": null,
            "max_width": null,
            "min_height": null,
            "min_width": null,
            "object_fit": null,
            "object_position": null,
            "order": null,
            "overflow": null,
            "overflow_x": null,
            "overflow_y": null,
            "padding": null,
            "right": null,
            "top": null,
            "visibility": null,
            "width": null
          }
        },
        "d702e05b0dfe47b39d667e147be400eb": {
          "model_module": "@jupyter-widgets/controls",
          "model_name": "DescriptionStyleModel",
          "model_module_version": "1.5.0",
          "state": {
            "_model_module": "@jupyter-widgets/controls",
            "_model_module_version": "1.5.0",
            "_model_name": "DescriptionStyleModel",
            "_view_count": null,
            "_view_module": "@jupyter-widgets/base",
            "_view_module_version": "1.2.0",
            "_view_name": "StyleView",
            "description_width": ""
          }
        },
        "f56542f1a1b74ff8a4b986f4db090977": {
          "model_module": "@jupyter-widgets/base",
          "model_name": "LayoutModel",
          "model_module_version": "1.2.0",
          "state": {
            "_model_module": "@jupyter-widgets/base",
            "_model_module_version": "1.2.0",
            "_model_name": "LayoutModel",
            "_view_count": null,
            "_view_module": "@jupyter-widgets/base",
            "_view_module_version": "1.2.0",
            "_view_name": "LayoutView",
            "align_content": null,
            "align_items": null,
            "align_self": null,
            "border": null,
            "bottom": null,
            "display": null,
            "flex": null,
            "flex_flow": null,
            "grid_area": null,
            "grid_auto_columns": null,
            "grid_auto_flow": null,
            "grid_auto_rows": null,
            "grid_column": null,
            "grid_gap": null,
            "grid_row": null,
            "grid_template_areas": null,
            "grid_template_columns": null,
            "grid_template_rows": null,
            "height": null,
            "justify_content": null,
            "justify_items": null,
            "left": null,
            "margin": null,
            "max_height": null,
            "max_width": null,
            "min_height": null,
            "min_width": null,
            "object_fit": null,
            "object_position": null,
            "order": null,
            "overflow": null,
            "overflow_x": null,
            "overflow_y": null,
            "padding": null,
            "right": null,
            "top": null,
            "visibility": null,
            "width": null
          }
        },
        "a4bfc0c9c621449c81170e2f92649503": {
          "model_module": "@jupyter-widgets/controls",
          "model_name": "ProgressStyleModel",
          "model_module_version": "1.5.0",
          "state": {
            "_model_module": "@jupyter-widgets/controls",
            "_model_module_version": "1.5.0",
            "_model_name": "ProgressStyleModel",
            "_view_count": null,
            "_view_module": "@jupyter-widgets/base",
            "_view_module_version": "1.2.0",
            "_view_name": "StyleView",
            "bar_color": null,
            "description_width": ""
          }
        },
        "86d82fe944734cc19a301efeb9d1456c": {
          "model_module": "@jupyter-widgets/base",
          "model_name": "LayoutModel",
          "model_module_version": "1.2.0",
          "state": {
            "_model_module": "@jupyter-widgets/base",
            "_model_module_version": "1.2.0",
            "_model_name": "LayoutModel",
            "_view_count": null,
            "_view_module": "@jupyter-widgets/base",
            "_view_module_version": "1.2.0",
            "_view_name": "LayoutView",
            "align_content": null,
            "align_items": null,
            "align_self": null,
            "border": null,
            "bottom": null,
            "display": null,
            "flex": null,
            "flex_flow": null,
            "grid_area": null,
            "grid_auto_columns": null,
            "grid_auto_flow": null,
            "grid_auto_rows": null,
            "grid_column": null,
            "grid_gap": null,
            "grid_row": null,
            "grid_template_areas": null,
            "grid_template_columns": null,
            "grid_template_rows": null,
            "height": null,
            "justify_content": null,
            "justify_items": null,
            "left": null,
            "margin": null,
            "max_height": null,
            "max_width": null,
            "min_height": null,
            "min_width": null,
            "object_fit": null,
            "object_position": null,
            "order": null,
            "overflow": null,
            "overflow_x": null,
            "overflow_y": null,
            "padding": null,
            "right": null,
            "top": null,
            "visibility": null,
            "width": null
          }
        },
        "eeac92ef77b741bdb431ae97bbe4c472": {
          "model_module": "@jupyter-widgets/controls",
          "model_name": "DescriptionStyleModel",
          "model_module_version": "1.5.0",
          "state": {
            "_model_module": "@jupyter-widgets/controls",
            "_model_module_version": "1.5.0",
            "_model_name": "DescriptionStyleModel",
            "_view_count": null,
            "_view_module": "@jupyter-widgets/base",
            "_view_module_version": "1.2.0",
            "_view_name": "StyleView",
            "description_width": ""
          }
        }
      }
    },
    "accelerator": "GPU"
  },
  "cells": [
    {
      "cell_type": "markdown",
      "metadata": {
        "id": "view-in-github",
        "colab_type": "text"
      },
      "source": [
        "<a href=\"https://colab.research.google.com/github/BalramAgnihotri123/Machine-Learning-And-Deep-Learning-HandsOn/blob/main/03_PyTorch_Clothes_Image_Classifiaction.ipynb\" target=\"_parent\"><img src=\"https://colab.research.google.com/assets/colab-badge.svg\" alt=\"Open In Colab\"/></a>"
      ]
    },
    {
      "cell_type": "markdown",
      "source": [
        "## 1.Importing relevant liabraries"
      ],
      "metadata": {
        "id": "ueGNmZ0kEMCx"
      }
    },
    {
      "cell_type": "code",
      "source": [
        "!pip install torchmetrics"
      ],
      "metadata": {
        "colab": {
          "base_uri": "https://localhost:8080/"
        },
        "id": "dYWyj6vdRkfz",
        "outputId": "f3e99685-c3d1-430f-bbeb-0dd9c06b788c"
      },
      "execution_count": 1,
      "outputs": [
        {
          "output_type": "stream",
          "name": "stdout",
          "text": [
            "Looking in indexes: https://pypi.org/simple, https://us-python.pkg.dev/colab-wheels/public/simple/\n",
            "Requirement already satisfied: torchmetrics in /usr/local/lib/python3.7/dist-packages (0.10.0)\n",
            "Requirement already satisfied: typing-extensions in /usr/local/lib/python3.7/dist-packages (from torchmetrics) (4.1.1)\n",
            "Requirement already satisfied: numpy>=1.17.2 in /usr/local/lib/python3.7/dist-packages (from torchmetrics) (1.21.6)\n",
            "Requirement already satisfied: packaging in /usr/local/lib/python3.7/dist-packages (from torchmetrics) (21.3)\n",
            "Requirement already satisfied: torch>=1.3.1 in /usr/local/lib/python3.7/dist-packages (from torchmetrics) (1.12.1+cu113)\n",
            "Requirement already satisfied: pyparsing!=3.0.5,>=2.0.2 in /usr/local/lib/python3.7/dist-packages (from packaging->torchmetrics) (3.0.9)\n"
          ]
        }
      ]
    },
    {
      "cell_type": "code",
      "source": [
        "import numpy as np\n",
        "import pandas as pd\n",
        "import matplotlib.pyplot as plt\n",
        "import torch\n",
        "import torchvision\n",
        "import torchmetrics\n",
        "from torch import nn\n",
        "from torchvision import datasets\n",
        "from torchvision import transforms\n",
        "from torchvision.transforms import ToTensor\n",
        "from torch.utils.data import DataLoader\n",
        "from tqdm.auto import tqdm"
      ],
      "metadata": {
        "id": "DBpMMr-LEv07"
      },
      "execution_count": 2,
      "outputs": []
    },
    {
      "cell_type": "markdown",
      "source": [
        "## 2.Getting/downloading image data "
      ],
      "metadata": {
        "id": "arimp_SYFi4n"
      }
    },
    {
      "cell_type": "code",
      "source": [
        "train_data = torchvision.datasets.FashionMNIST(root =\"data\",\n",
        "                                               train=True,\n",
        "                                               transform =ToTensor(),\n",
        "                                               download =True,\n",
        "                                               target_transform=None)\n",
        "test_data = torchvision.datasets.FashionMNIST(root=\"data\",\n",
        "                                                    train=False,\n",
        "                                                    download=True,\n",
        "                                                    transform=ToTensor(),\n",
        "                                                    target_transform=None)"
      ],
      "metadata": {
        "id": "SxEAZIbvFuDT"
      },
      "execution_count": 3,
      "outputs": []
    },
    {
      "cell_type": "code",
      "source": [
        "img,label= train_data[0]\n",
        "img.shape"
      ],
      "metadata": {
        "colab": {
          "base_uri": "https://localhost:8080/"
        },
        "id": "PDf8vv3MGkH9",
        "outputId": "09bd9f42-6656-43da-d398-6bd392f36ecb"
      },
      "execution_count": 4,
      "outputs": [
        {
          "output_type": "execute_result",
          "data": {
            "text/plain": [
              "torch.Size([1, 28, 28])"
            ]
          },
          "metadata": {},
          "execution_count": 4
        }
      ]
    },
    {
      "cell_type": "code",
      "source": [
        "len(train_data)"
      ],
      "metadata": {
        "colab": {
          "base_uri": "https://localhost:8080/"
        },
        "id": "dVH3C6jqIYWD",
        "outputId": "61616487-1b49-4094-b747-904ad4fd8ffa"
      },
      "execution_count": 5,
      "outputs": [
        {
          "output_type": "execute_result",
          "data": {
            "text/plain": [
              "60000"
            ]
          },
          "metadata": {},
          "execution_count": 5
        }
      ]
    },
    {
      "cell_type": "markdown",
      "source": [
        "### 2.1 Visualizing data with random samples of the data"
      ],
      "metadata": {
        "id": "XBnyXl0pGsFw"
      }
    },
    {
      "cell_type": "code",
      "source": [
        "##Getting titles of the labels of the images\n",
        "class_names = train_data.class_to_idx\n",
        "\n",
        "##Setting up a random seed\n",
        "torch.manual_seed(42)\n",
        "\n",
        "## Plotting random images\n",
        "rows,columns=5,5\n",
        "plt.figure(figsize=(10,10))\n",
        "for i in range(1,rows*columns+1):\n",
        "  idx=torch.randint(0,len(train_data),size=[1]).item()\n",
        "  img,label = train_data[i]\n",
        "  plt.subplot(rows,columns,i)\n",
        "  plt.imshow(img.squeeze(),cmap='gray')\n",
        "  plt.title(tuple(class_names.items())[label][0])\n",
        "  plt.axis(False)"
      ],
      "metadata": {
        "colab": {
          "base_uri": "https://localhost:8080/",
          "height": 591
        },
        "id": "CAS7TRrsHDMr",
        "outputId": "7b7c9d3d-ca55-49d1-d580-6021c13312e0"
      },
      "execution_count": 6,
      "outputs": [
        {
          "output_type": "display_data",
          "data": {
            "text/plain": [
              "<Figure size 720x720 with 25 Axes>"
            ],
            "image/png": "[encoded data removed]"
          },
          "metadata": {
            "needs_background": "light"
          }
        }
      ]
    },
    {
      "cell_type": "markdown",
      "source": [
        "## 3.Base Model"
      ],
      "metadata": {
        "id": "Jo3y6bqrJGsv"
      }
    },
    {
      "cell_type": "markdown",
      "source": [
        "### 3.1 Creating a DataLoader"
      ],
      "metadata": {
        "id": "SHNHUA6LKcgY"
      }
    },
    {
      "cell_type": "code",
      "source": [
        "BATCH_SIZE=32\n",
        "train_dataloader = torch.utils.data.DataLoader(train_data,\n",
        "                                               batch_size =BATCH_SIZE,\n",
        "                                               shuffle=True)\n",
        "test_dataloader =torch.utils.data.DataLoader(test_data,\n",
        "                                             shuffle=False,\n",
        "                                             batch_size =BATCH_SIZE)"
      ],
      "metadata": {
        "id": "Ofpx-jWNJn4_"
      },
      "execution_count": 7,
      "outputs": []
    },
    {
      "cell_type": "code",
      "source": [
        "train_feature,train_label= next(iter(train_dataloader))\n",
        "train_feature.shape,train_label.shape"
      ],
      "metadata": {
        "colab": {
          "base_uri": "https://localhost:8080/"
        },
        "id": "AvbDzTSbKTbd",
        "outputId": "12662da2-583f-406d-fb74-48b3ce20600c"
      },
      "execution_count": 8,
      "outputs": [
        {
          "output_type": "execute_result",
          "data": {
            "text/plain": [
              "(torch.Size([32, 1, 28, 28]), torch.Size([32]))"
            ]
          },
          "metadata": {},
          "execution_count": 8
        }
      ]
    },
    {
      "cell_type": "code",
      "source": [
        "## random seed \n",
        "torch.manual_seed(42)\n",
        "\n",
        "## plotting a random image from the data loader\n",
        "idx = torch.randint(0,len(train_feature),size =[1]).item()\n",
        "img,label=train_feature[idx],train_label[idx]\n",
        "plt.imshow(img.squeeze(),cmap='gray')\n",
        "plt.axis(False)\n",
        "plt.title(tuple(class_names.items())[label][0])"
      ],
      "metadata": {
        "colab": {
          "base_uri": "https://localhost:8080/",
          "height": 281
        },
        "id": "btz9WvrSKmdX",
        "outputId": "70139b6b-c2a6-4c01-8bec-90f4bb4fb2d9"
      },
      "execution_count": 9,
      "outputs": [
        {
          "output_type": "execute_result",
          "data": {
            "text/plain": [
              "Text(0.5, 1.0, 'Trouser')"
            ]
          },
          "metadata": {},
          "execution_count": 9
        },
        {
          "output_type": "display_data",
          "data": {
            "text/plain": [
              "<Figure size 432x288 with 1 Axes>"
            ],
            "image/png": "[encoded data removed]"
          },
          "metadata": {
            "needs_background": "light"
          }
        }
      ]
    },
    {
      "cell_type": "markdown",
      "source": [
        "### 3.2 Making a Model subclass that subclasses `nn.Module`"
      ],
      "metadata": {
        "id": "hVg2Er35MubI"
      }
    },
    {
      "cell_type": "code",
      "source": [
        "## Creating a class\n",
        "class FashionMNISTModelV0(nn.Module):\n",
        "  def __init__(self,\n",
        "               input:int,\n",
        "               hidden:int,\n",
        "               output:int):\n",
        "    super().__init__()\n",
        "    self.Layers = nn.Sequential(nn.Flatten(),\n",
        "                                nn.Linear(input,hidden),\n",
        "                                nn.Linear(hidden,output))\n",
        "  def forward(self,x:torch.Tensor):\n",
        "    return self.Layers(x)\n",
        "\n",
        "## Creating an instance of the class\n",
        "model_0 =  FashionMNISTModelV0(784,10,10)\n"
      ],
      "metadata": {
        "id": "-knLDGISNflJ"
      },
      "execution_count": 10,
      "outputs": []
    },
    {
      "cell_type": "markdown",
      "source": [
        "### 3.3 Initializing a loss function and an optimizer"
      ],
      "metadata": {
        "id": "odECntatO8AQ"
      }
    },
    {
      "cell_type": "code",
      "source": [
        "loss_fn = nn.CrossEntropyLoss()\n",
        "optimizer =torch.optim.SGD(model_0.parameters(),\n",
        "                           lr =0.01)"
      ],
      "metadata": {
        "id": "PDxmQamAOqxr"
      },
      "execution_count": 11,
      "outputs": []
    },
    {
      "cell_type": "markdown",
      "source": [
        "### 3.3 Training and testing loop"
      ],
      "metadata": {
        "id": "6BrcP5ZgO52w"
      }
    },
    {
      "cell_type": "code",
      "source": [
        "from timeit import default_timer as timer\n",
        "def time_taken(start_time:int,end_time:int,device:torch.device=None):\n",
        "  time_taken_to_code = end_time-start_time\n",
        "  return time_taken_to_code"
      ],
      "metadata": {
        "id": "k0Hi0eEqPQFm"
      },
      "execution_count": 12,
      "outputs": []
    },
    {
      "cell_type": "code",
      "source": [
        "from tqdm.auto import tqdm\n",
        "from torchmetrics.functional import accuracy\n",
        "\n",
        "epochs = 6\n",
        "start_time = timer()\n",
        "for epoch in tqdm(range(epochs)):\n",
        "  train_loss=0\n",
        "  train_acc =0\n",
        "  for batch,(X,y) in enumerate(train_dataloader):\n",
        "    model_0.train()\n",
        "    y_pred=model_0(X)\n",
        "    y_values=y_pred.argmax(dim=1)\n",
        "    train_acc+=accuracy(y_values,y)\n",
        "    loss =loss_fn(y_pred,y)\n",
        "    train_loss+=loss\n",
        "    optimizer.zero_grad()\n",
        "    loss.backward()\n",
        "    optimizer.step()\n",
        "    if batch%400==0:\n",
        "      print(f'epoch:{epoch},\\nlooked at {batch*len(X)}/{len(train_data)} samples...')\n",
        "\n",
        "  train_loss/=len(train_dataloader)\n",
        "  train_acc/=len(train_dataloader)\n",
        "\n",
        "  test_loss=0\n",
        "  test_acc=0\n",
        "  model_0.eval()\n",
        "  with torch.inference_mode():\n",
        "    for X_test,y_test in test_dataloader:\n",
        "      predictions = model_0(X_test)\n",
        "      test_loss+=loss_fn(predictions,y_test)\n",
        "      test_acc += accuracy(preds=predictions.argmax(dim=1),target=y_test)\n",
        "    test_loss/=len(test_dataloader)\n",
        "    test_acc/=len(test_dataloader)\n",
        "    print(f\"\\ntraining_loss: {train_loss} test_loss: {test_loss}, test_accuracy: {test_acc} \\n\")\n",
        "\n",
        "end_time =timer()\n",
        "print(f\"time taken for the code to run is : {time_taken(start_time,end_time)} seconds\")"
      ],
      "metadata": {
        "colab": {
          "base_uri": "https://localhost:8080/",
          "height": 1000,
          "referenced_widgets": [
            "f7a97b6f77354118b7e3c20e2f57d6a3",
            "0bce39c5c2e44b7ca0ff2df127f56bbb",
            "be9f1745788144a09fd98e0764035fce",
            "a7631d23a7114a9c8bf53645c825be58",
            "aa6f6fa0408c497cab732e1637a2722d",
            "433e199438034d2b8f1ac421f114459c",
            "21a7dbe532714c40945c9af9b4f0744d",
            "ba9f76cb05884bef91b649749a4c0b23",
            "7cdf437f08524486860bb9d8b3ec201c",
            "e4108bcd56874ab8b1ed36d60a59010e",
            "2662447333cf4c14a0595620dadadce5"
          ]
        },
        "id": "if3mDJKgPtfi",
        "outputId": "cb68cbc7-e571-49cb-b19c-878fc7a2adfa"
      },
      "execution_count": 13,
      "outputs": [
        {
          "output_type": "display_data",
          "data": {
            "text/plain": [
              "  0%|          | 0/6 [00:00<?, ?it/s]"
            ],
            "application/vnd.jupyter.widget-view+json": {
              "version_major": 2,
              "version_minor": 0,
              "model_id": "f7a97b6f77354118b7e3c20e2f57d6a3"
            }
          },
          "metadata": {}
        },
        {
          "output_type": "stream",
          "name": "stdout",
          "text": [
            "epoch:0,\n",
            "looked at 0/60000 samples...\n",
            "epoch:0,\n",
            "looked at 12800/60000 samples...\n",
            "epoch:0,\n",
            "looked at 25600/60000 samples...\n",
            "epoch:0,\n",
            "looked at 38400/60000 samples...\n",
            "epoch:0,\n",
            "looked at 51200/60000 samples...\n",
            "\n",
            "training_loss: 0.9140531420707703 test_loss: 0.6346914768218994, test_accuracy: 0.7825479507446289 \n",
            "\n",
            "epoch:1,\n",
            "looked at 0/60000 samples...\n",
            "epoch:1,\n",
            "looked at 12800/60000 samples...\n",
            "epoch:1,\n",
            "looked at 25600/60000 samples...\n",
            "epoch:1,\n",
            "looked at 38400/60000 samples...\n",
            "epoch:1,\n",
            "looked at 51200/60000 samples...\n",
            "\n",
            "training_loss: 0.5646927952766418 test_loss: 0.5534481406211853, test_accuracy: 0.809904158115387 \n",
            "\n",
            "epoch:2,\n",
            "looked at 0/60000 samples...\n",
            "epoch:2,\n",
            "looked at 12800/60000 samples...\n",
            "epoch:2,\n",
            "looked at 25600/60000 samples...\n",
            "epoch:2,\n",
            "looked at 38400/60000 samples...\n",
            "epoch:2,\n",
            "looked at 51200/60000 samples...\n",
            "\n",
            "training_loss: 0.5077475309371948 test_loss: 0.5178843140602112, test_accuracy: 0.8192891478538513 \n",
            "\n",
            "epoch:3,\n",
            "looked at 0/60000 samples...\n",
            "epoch:3,\n",
            "looked at 12800/60000 samples...\n",
            "epoch:3,\n",
            "looked at 25600/60000 samples...\n",
            "epoch:3,\n",
            "looked at 38400/60000 samples...\n",
            "epoch:3,\n",
            "looked at 51200/60000 samples...\n",
            "\n",
            "training_loss: 0.4813307523727417 test_loss: 0.4977005124092102, test_accuracy: 0.8236821293830872 \n",
            "\n",
            "epoch:4,\n",
            "looked at 0/60000 samples...\n",
            "epoch:4,\n",
            "looked at 12800/60000 samples...\n",
            "epoch:4,\n",
            "looked at 25600/60000 samples...\n",
            "epoch:4,\n",
            "looked at 38400/60000 samples...\n",
            "epoch:4,\n",
            "looked at 51200/60000 samples...\n",
            "\n",
            "training_loss: 0.4647582471370697 test_loss: 0.4871998131275177, test_accuracy: 0.8300718665122986 \n",
            "\n",
            "epoch:5,\n",
            "looked at 0/60000 samples...\n",
            "epoch:5,\n",
            "looked at 12800/60000 samples...\n",
            "epoch:5,\n",
            "looked at 25600/60000 samples...\n",
            "epoch:5,\n",
            "looked at 38400/60000 samples...\n",
            "epoch:5,\n",
            "looked at 51200/60000 samples...\n",
            "\n",
            "training_loss: 0.4534008502960205 test_loss: 0.4780232012271881, test_accuracy: 0.8293730020523071 \n",
            "\n",
            "time taken for the code to run is : 68.53881377200014 seconds\n"
          ]
        }
      ]
    },
    {
      "cell_type": "markdown",
      "source": [
        "## 4.Making Predictions with our model"
      ],
      "metadata": {
        "id": "vR96lcWddf_b"
      }
    },
    {
      "cell_type": "code",
      "source": [
        "img,label = test_data[0]\n",
        "model_0.eval()\n",
        "with torch.inference_mode():\n",
        "  prediction = model_0(img)\n",
        "  print(prediction.argmax(dim=1))\n",
        "  print(f\"{label}\")"
      ],
      "metadata": {
        "id": "jUOdTBt1T6Qf",
        "colab": {
          "base_uri": "https://localhost:8080/"
        },
        "outputId": "e90d7acc-cdce-4e23-fa39-17c2b78105e0"
      },
      "execution_count": 14,
      "outputs": [
        {
          "output_type": "stream",
          "name": "stdout",
          "text": [
            "tensor([9])\n",
            "9\n"
          ]
        }
      ]
    },
    {
      "cell_type": "code",
      "source": [
        "## general function for evaluation of models\n",
        "def evaluation_metrics_on_cpu(model:torch.nn.Module,\n",
        "                       dataloader:torch.utils.data.DataLoader,\n",
        "                       loss_fn:torch.nn.Module):\n",
        "  '''Returns a dictionary of accuracy, loss and and information of the model'''\n",
        "  model_0.eval()\n",
        "  with torch.inference_mode():\n",
        "     test_loss,test_acc = 0,0\n",
        "     for X,y in dataloader:\n",
        "       \n",
        "       y_pred = model(X)\n",
        "       \n",
        "       loss = loss_fn(y_pred,y)\n",
        "       test_loss+=loss\n",
        "\n",
        "       accuracy = torchmetrics.functional.accuracy(y_pred.argmax(dim=1),y)\n",
        "       test_acc+=accuracy\n",
        "     test_loss/=len(dataloader)\n",
        "     test_acc/=len(dataloader)\n",
        "     return {\"model class name\": model.__class__.__name__ ,\"test loss\": test_loss.item() ,\"test accuracy\": test_acc.item()}"
      ],
      "metadata": {
        "id": "3iDuzNI6T_hd"
      },
      "execution_count": 15,
      "outputs": []
    },
    {
      "cell_type": "code",
      "source": [
        "model_0_eval = evaluation_metrics_on_cpu(model_0,test_dataloader,loss_fn=loss_fn)"
      ],
      "metadata": {
        "id": "BxhdjfsYdMr6"
      },
      "execution_count": 16,
      "outputs": []
    },
    {
      "cell_type": "markdown",
      "source": [
        "## 5.Creating a new model with non linearity"
      ],
      "metadata": {
        "id": "BG5VFquGm4vH"
      }
    },
    {
      "cell_type": "code",
      "source": [
        "import numpy as np\n",
        "import matplotlib.pyplot as plt\n",
        "import torch\n",
        "import torchvision\n",
        "import torchmetrics\n",
        "from torch import nn\n",
        "from torchvision import datasets\n",
        "from torchvision import transforms\n",
        "from torchvision.transforms import ToTensor\n",
        "from torch.utils.data import DataLoader"
      ],
      "metadata": {
        "id": "aMADqtN-UU5G"
      },
      "execution_count": 17,
      "outputs": []
    },
    {
      "cell_type": "code",
      "source": [
        "### setting up a device agnostic code\n",
        "import torch\n",
        "device = 'cuda' if torch.cuda.is_available() else 'cpu'"
      ],
      "metadata": {
        "id": "c5zFiP7l92BC"
      },
      "execution_count": 18,
      "outputs": []
    },
    {
      "cell_type": "code",
      "source": [
        "## general function for evaluation of models\n",
        "def evaluation_metrics_on_gpu(model:torch.nn.Module,\n",
        "                       dataloader:torch.utils.data.DataLoader,\n",
        "                       loss_fn:torch.nn.Module):\n",
        "  '''Returns a dictionary of accuracy, loss and and information of the model'''\n",
        "  model_0.eval()\n",
        "  with torch.inference_mode():\n",
        "     test_loss,test_acc = 0,0\n",
        "     for X,y in dataloader:\n",
        "       X,y=X.to(device),y.to(device)\n",
        "       y_pred = model(X)\n",
        "       \n",
        "       loss = loss_fn(y_pred,y)\n",
        "       test_loss+=loss\n",
        "\n",
        "       accuracy = torchmetrics.functional.accuracy(y_pred.argmax(dim=1),y)\n",
        "       test_acc+=accuracy\n",
        "     test_loss/=len(dataloader)\n",
        "     test_acc/=len(dataloader)\n",
        "     return {\"model class name\": model.__class__.__name__ ,\"test loss\": test_loss.item() ,\"test accuracy\": test_acc.item()}"
      ],
      "metadata": {
        "id": "8pnmUWCVqZfh"
      },
      "execution_count": 19,
      "outputs": []
    },
    {
      "cell_type": "code",
      "source": [
        "class FashionMNISTModelV1(nn.Module):\n",
        "  def __init__(self,\n",
        "              input:int,\n",
        "              hidden:int,\n",
        "              output:int):\n",
        "    super().__init__()\n",
        "    self.layers =nn.Sequential(nn.Flatten(),\n",
        "                               nn.Linear(input,hidden),\n",
        "                               nn.Linear(hidden,output)\n",
        "                               )\n",
        "  def forward(self,x:torch.Tensor):\n",
        "    return self.layers(x)\n",
        "model_1=FashionMNISTModelV1(784,10,10)\n",
        "model_1.to(device)"
      ],
      "metadata": {
        "id": "8GVQ0lBKAA5n",
        "colab": {
          "base_uri": "https://localhost:8080/"
        },
        "outputId": "89b7710c-afbc-4076-9158-c16d021ca49a"
      },
      "execution_count": 20,
      "outputs": [
        {
          "output_type": "execute_result",
          "data": {
            "text/plain": [
              "FashionMNISTModelV1(\n",
              "  (layers): Sequential(\n",
              "    (0): Flatten(start_dim=1, end_dim=-1)\n",
              "    (1): Linear(in_features=784, out_features=10, bias=True)\n",
              "    (2): Linear(in_features=10, out_features=10, bias=True)\n",
              "  )\n",
              ")"
            ]
          },
          "metadata": {},
          "execution_count": 20
        }
      ]
    },
    {
      "cell_type": "code",
      "source": [
        "loss_fn = nn.CrossEntropyLoss()\n",
        "optimizer = torch.optim.SGD(params = model_1.parameters(),\n",
        "                            lr=0.1)"
      ],
      "metadata": {
        "id": "Qt7bjxNpUBHr"
      },
      "execution_count": 21,
      "outputs": []
    },
    {
      "cell_type": "markdown",
      "source": [
        "### 5.1 Functioninzing out training and testing loop"
      ],
      "metadata": {
        "id": "PNnPtwqWnG9a"
      }
    },
    {
      "cell_type": "code",
      "source": [
        "def train_loop(model:torch.nn.Module,\n",
        "                    dataloader:torch.utils.data.DataLoader,\n",
        "                    device:torch.device,\n",
        "                    loss_fn:torch.nn.Module,\n",
        "                    train_data,\n",
        "                    optimizer:torch.optim.Optimizer,\n",
        "                   ):\n",
        "  if device =='cpu':\n",
        "    torch.manual_seed(42)\n",
        "  else:\n",
        "    torch.cuda.manual_seed(42)\n",
        "  train_loss = 0\n",
        "  model.train()\n",
        "  for batch,(X,y) in enumerate(dataloader):\n",
        "      X,y=X.to(device),y.to(device)\n",
        "      y_pred=model(X)\n",
        "      loss = loss_fn(y_pred,y)\n",
        "      train_loss+=loss\n",
        "      optimizer.zero_grad()\n",
        "      loss.backward()\n",
        "      optimizer.step()\n",
        "      if batch%500==0:\n",
        "        print(f\"epoch: {epoch};\\nwent through {batch*len(X)}/{len(train_data)}\")\n",
        "  train_loss/=len(dataloader)\n",
        "  print(f\"train loss is: {train_loss.item()}\")"
      ],
      "metadata": {
        "id": "PjYPzo6fanGf"
      },
      "execution_count": 22,
      "outputs": []
    },
    {
      "cell_type": "code",
      "source": [
        "## general function for evaluation of models\n",
        "def test_step(model:torch.nn.Module,\n",
        "                       dataloader:torch.utils.data.DataLoader,\n",
        "                       loss_fn:torch.nn.Module,\n",
        "                       device:torch.device=device):\n",
        "  '''Returns a dictionary of accuracy, loss and and information of the model'''\n",
        "  model_0.eval()\n",
        "  with torch.inference_mode():\n",
        "     test_loss,test_acc = 0,0\n",
        "     for X,y in dataloader:\n",
        "       X,y=X.to(device),y.to(device)\n",
        "       y_pred = model(X)\n",
        "       \n",
        "       loss = loss_fn(y_pred,y)\n",
        "       test_loss+=loss\n",
        "\n",
        "       accuracy = torchmetrics.functional.accuracy(y_pred.argmax(dim=1),y)\n",
        "       test_acc+=accuracy\n",
        "     test_loss/=len(dataloader)\n",
        "     test_acc/=len(dataloader)\n",
        "     print(f\"test loss: {test_loss} \\ntest accuracy: {test_acc}\")"
      ],
      "metadata": {
        "id": "HBgumUS-liVA"
      },
      "execution_count": 23,
      "outputs": []
    },
    {
      "cell_type": "code",
      "source": [
        "epochs = 6\n",
        "start_time_on_gpu =timer()\n",
        "for epoch in tqdm(range(epochs)):\n",
        "  train_loop(model=model_1,\n",
        "           dataloader=train_dataloader,\n",
        "           device=device,\n",
        "           loss_fn=loss_fn,\n",
        "           train_data=train_data,\n",
        "           optimizer =optimizer\n",
        "           )\n",
        "  test_step(model_1,test_dataloader,loss_fn,device)\n",
        "end_time_on_gpu=timer()\n",
        "print(f\"time taken on gpu to run the model is {time_taken(start_time_on_gpu,end_time_on_gpu)}\")"
      ],
      "metadata": {
        "colab": {
          "base_uri": "https://localhost:8080/",
          "height": 1000,
          "referenced_widgets": [
            "32c0484ed7194bbcbc2639376610a088",
            "afa2225f4fa24f4db4c85792b90d894c",
            "55464b2649c34705a1cc35d53fbfbd38",
            "e447c09a79bf4bfc960c0fc6925d728e",
            "1b0c5a073a174bd290c7eb73accd8ca4",
            "212a79f770e6444aaa5084aa1adfc271",
            "7abea84f6c454ad4a8882bdc661ba9c4",
            "412ad25d8b5d468f9fdb0961f011d301",
            "49f7eb8b7c234f4e9aab9e80915cc492",
            "8146c891a98740649c1ac9eaa0f32aa8",
            "36348002a72546d0a916afbfe32ceb88"
          ]
        },
        "id": "k2EbEpz5l2eb",
        "outputId": "4762f020-de54-4745-8c93-5cc3503e0a46"
      },
      "execution_count": 24,
      "outputs": [
        {
          "output_type": "display_data",
          "data": {
            "text/plain": [
              "  0%|          | 0/6 [00:00<?, ?it/s]"
            ],
            "application/vnd.jupyter.widget-view+json": {
              "version_major": 2,
              "version_minor": 0,
              "model_id": "32c0484ed7194bbcbc2639376610a088"
            }
          },
          "metadata": {}
        },
        {
          "output_type": "stream",
          "name": "stdout",
          "text": [
            "epoch: 0;\n",
            "went through 0/60000\n",
            "epoch: 0;\n",
            "went through 16000/60000\n",
            "epoch: 0;\n",
            "went through 32000/60000\n",
            "epoch: 0;\n",
            "went through 48000/60000\n",
            "train loss is: 0.5924811363220215\n",
            "test loss: 0.5022190809249878 \n",
            "test accuracy: 0.8243809938430786\n",
            "epoch: 1;\n",
            "went through 0/60000\n",
            "epoch: 1;\n",
            "went through 16000/60000\n",
            "epoch: 1;\n",
            "went through 32000/60000\n",
            "epoch: 1;\n",
            "went through 48000/60000\n",
            "train loss is: 0.478282630443573\n",
            "test loss: 0.48001426458358765 \n",
            "test accuracy: 0.8303713798522949\n",
            "epoch: 2;\n",
            "went through 0/60000\n",
            "epoch: 2;\n",
            "went through 16000/60000\n",
            "epoch: 2;\n",
            "went through 32000/60000\n",
            "epoch: 2;\n",
            "went through 48000/60000\n",
            "train loss is: 0.4563608765602112\n",
            "test loss: 0.4706697165966034 \n",
            "test accuracy: 0.8341653347015381\n",
            "epoch: 3;\n",
            "went through 0/60000\n",
            "epoch: 3;\n",
            "went through 16000/60000\n",
            "epoch: 3;\n",
            "went through 32000/60000\n",
            "epoch: 3;\n",
            "went through 48000/60000\n",
            "train loss is: 0.4446052312850952\n",
            "test loss: 0.46542778611183167 \n",
            "test accuracy: 0.8358626365661621\n",
            "epoch: 4;\n",
            "went through 0/60000\n",
            "epoch: 4;\n",
            "went through 16000/60000\n",
            "epoch: 4;\n",
            "went through 32000/60000\n",
            "epoch: 4;\n",
            "went through 48000/60000\n",
            "train loss is: 0.4368326961994171\n",
            "test loss: 0.46216922998428345 \n",
            "test accuracy: 0.837260365486145\n",
            "epoch: 5;\n",
            "went through 0/60000\n",
            "epoch: 5;\n",
            "went through 16000/60000\n",
            "epoch: 5;\n",
            "went through 32000/60000\n",
            "epoch: 5;\n",
            "went through 48000/60000\n",
            "train loss is: 0.4311380982398987\n",
            "test loss: 0.4600716531276703 \n",
            "test accuracy: 0.838957667350769\n",
            "time taken on gpu to run the model is 50.72672850500021\n"
          ]
        }
      ]
    },
    {
      "cell_type": "code",
      "source": [
        "model_1_eval = evaluation_metrics_on_gpu(model_1,test_dataloader,loss_fn)"
      ],
      "metadata": {
        "id": "AUZRvN2bouaW"
      },
      "execution_count": 25,
      "outputs": []
    },
    {
      "cell_type": "markdown",
      "source": [
        "## 6.Creating a CNN(Convolutional Neural Network) model"
      ],
      "metadata": {
        "id": "_5b4RZgrnRF4"
      }
    },
    {
      "cell_type": "markdown",
      "source": [
        "### 6.1 Initializing a CNN model subclass"
      ],
      "metadata": {
        "id": "1mM1LNwxuOpX"
      }
    },
    {
      "cell_type": "code",
      "source": [
        "from torch.nn.modules.pooling import MaxPool2d\n",
        "class FashionMNISTModelV2(nn.Module):\n",
        "  def __init__(self,input:int,\n",
        "               hidden:int,\n",
        "               output:int):\n",
        "    super().__init__()\n",
        "    self.conv_layers1 = nn.Sequential(\n",
        "        nn.Conv2d(in_channels=input,\n",
        "                  out_channels=hidden,\n",
        "                  kernel_size=3,\n",
        "                  padding=1,\n",
        "                  stride=1),\n",
        "        nn.ReLU(),\n",
        "\n",
        "        nn.Conv2d(in_channels=hidden,\n",
        "                  out_channels=hidden,\n",
        "                  kernel_size=3,\n",
        "                  padding=1,\n",
        "                  stride=1),\n",
        "        nn.ReLU(),\n",
        "        nn.MaxPool2d(kernel_size=2)\n",
        "        )\n",
        "    self.conv_layers2 =nn.Sequential(\n",
        "          nn.Conv2d(in_channels=hidden,\n",
        "                    out_channels=hidden,\n",
        "                    kernel_size=3,\n",
        "                    padding=1,\n",
        "                    stride=1),\n",
        "          nn.ReLU(),\n",
        "          \n",
        "          nn.Conv2d(in_channels=hidden,\n",
        "                    out_channels=hidden,\n",
        "                    kernel_size=3,padding=1,\n",
        "                    stride=1),\n",
        "          nn.ReLU(),\n",
        "          nn.MaxPool2d(kernel_size=2)\n",
        "          )\n",
        "    self.classifier = nn.Sequential(\n",
        "        nn.Flatten(),\n",
        "        nn.Linear(in_features=490,\n",
        "                  out_features=len(class_names))\n",
        "    )\n",
        "  def forward(self,x):\n",
        "    x = self.conv_layers1(x)\n",
        "    x = self.conv_layers2(x)\n",
        "    x = self.classifier(x)\n",
        "    return x\n"
      ],
      "metadata": {
        "id": "s1N6BJ6unZwZ"
      },
      "execution_count": 26,
      "outputs": []
    },
    {
      "cell_type": "code",
      "source": [
        "model_2 = FashionMNISTModelV2(1,10,10).to(device)"
      ],
      "metadata": {
        "id": "jQZzAjbqJdpo"
      },
      "execution_count": 27,
      "outputs": []
    },
    {
      "cell_type": "markdown",
      "source": [
        "### 6.2 Setting up a loss and an optimizer function"
      ],
      "metadata": {
        "id": "fqN-H8v2uVv7"
      }
    },
    {
      "cell_type": "code",
      "source": [
        "loss_fn = nn.CrossEntropyLoss()\n",
        "optimizer = torch.optim.SGD(model_2.parameters(),lr = 0.05)"
      ],
      "metadata": {
        "id": "HaumOSUylycB"
      },
      "execution_count": 28,
      "outputs": []
    },
    {
      "cell_type": "markdown",
      "source": [
        "### 6.3 Training and testing our model through functions "
      ],
      "metadata": {
        "id": "-bH37dUjucAj"
      }
    },
    {
      "cell_type": "code",
      "source": [
        "epochs = 6\n",
        "start_time_on_gpu =timer()\n",
        "for epoch in tqdm(range(epochs)):\n",
        "  train_loop(model=model_2,\n",
        "           dataloader=train_dataloader,\n",
        "           device=device,\n",
        "           loss_fn=loss_fn,\n",
        "           train_data=train_data,\n",
        "           optimizer =optimizer\n",
        "           )\n",
        "  test_step(model_2,test_dataloader,loss_fn,device)\n",
        "end_time_on_gpu=timer()\n",
        "print(f\"time taken on gpu to run the model is {time_taken(start_time_on_gpu,end_time_on_gpu)}\")"
      ],
      "metadata": {
        "colab": {
          "base_uri": "https://localhost:8080/",
          "height": 1000,
          "referenced_widgets": [
            "66d6beb1e5c74ad9b36471fc15899490",
            "05af15c4042c4f1c9f9747beaeee527c",
            "d8660c026b3c474f8a22e66bdd8511d6",
            "a57ad2aa54f3460b8063d678e0877d6b",
            "574bb99e438845eda1f8206d1ac6827d",
            "e02ce7f2139a4c839a340e9389f2d6c6",
            "d702e05b0dfe47b39d667e147be400eb",
            "f56542f1a1b74ff8a4b986f4db090977",
            "a4bfc0c9c621449c81170e2f92649503",
            "86d82fe944734cc19a301efeb9d1456c",
            "eeac92ef77b741bdb431ae97bbe4c472"
          ]
        },
        "id": "6NUIs5SAJnQ1",
        "outputId": "befbaa6f-8203-43a6-b8c8-151769627faf"
      },
      "execution_count": 29,
      "outputs": [
        {
          "output_type": "display_data",
          "data": {
            "text/plain": [
              "  0%|          | 0/6 [00:00<?, ?it/s]"
            ],
            "application/vnd.jupyter.widget-view+json": {
              "version_major": 2,
              "version_minor": 0,
              "model_id": "66d6beb1e5c74ad9b36471fc15899490"
            }
          },
          "metadata": {}
        },
        {
          "output_type": "stream",
          "name": "stdout",
          "text": [
            "epoch: 0;\n",
            "went through 0/60000\n",
            "epoch: 0;\n",
            "went through 16000/60000\n",
            "epoch: 0;\n",
            "went through 32000/60000\n",
            "epoch: 0;\n",
            "went through 48000/60000\n",
            "train loss is: 0.6985626220703125\n",
            "test loss: 0.43655577301979065 \n",
            "test accuracy: 0.842851459980011\n",
            "epoch: 1;\n",
            "went through 0/60000\n",
            "epoch: 1;\n",
            "went through 16000/60000\n",
            "epoch: 1;\n",
            "went through 32000/60000\n",
            "epoch: 1;\n",
            "went through 48000/60000\n",
            "train loss is: 0.3921646475791931\n",
            "test loss: 0.3708166182041168 \n",
            "test accuracy: 0.8644169569015503\n",
            "epoch: 2;\n",
            "went through 0/60000\n",
            "epoch: 2;\n",
            "went through 16000/60000\n",
            "epoch: 2;\n",
            "went through 32000/60000\n",
            "epoch: 2;\n",
            "went through 48000/60000\n",
            "train loss is: 0.34355905652046204\n",
            "test loss: 0.3438566327095032 \n",
            "test accuracy: 0.8730031847953796\n",
            "epoch: 3;\n",
            "went through 0/60000\n",
            "epoch: 3;\n",
            "went through 16000/60000\n",
            "epoch: 3;\n",
            "went through 32000/60000\n",
            "train loss is: 0.31851813197135925\n",
            "test loss: 0.32996171712875366 \n",
            "test accuracy: 0.8807907104492188\n",
            "epoch: 4;\n",
            "went through 0/60000\n",
            "epoch: 4;\n",
            "went through 16000/60000\n",
            "epoch: 4;\n",
            "went through 32000/60000\n",
            "epoch: 4;\n",
            "went through 48000/60000\n",
            "train loss is: 0.3026946187019348\n",
            "test loss: 0.32501500844955444 \n",
            "test accuracy: 0.8804911971092224\n",
            "epoch: 5;\n",
            "went through 0/60000\n",
            "epoch: 5;\n",
            "went through 16000/60000\n",
            "epoch: 5;\n",
            "went through 32000/60000\n",
            "epoch: 5;\n",
            "went through 48000/60000\n",
            "train loss is: 0.2918803095817566\n",
            "test loss: 0.31920677423477173 \n",
            "test accuracy: 0.8813897967338562\n",
            "time taken on gpu to run the model is 324.2642609680006\n"
          ]
        }
      ]
    },
    {
      "cell_type": "markdown",
      "source": [
        "### 6.4 Evaluating our models"
      ],
      "metadata": {
        "id": "laAEtAnQvZ-H"
      }
    },
    {
      "cell_type": "code",
      "source": [
        "model_2_eval  = evaluation_metrics_on_gpu(model_2,\n",
        "                                   test_dataloader,\n",
        "                                   loss_fn)"
      ],
      "metadata": {
        "id": "Ge_8XZm8TYRY"
      },
      "execution_count": 30,
      "outputs": []
    },
    {
      "cell_type": "code",
      "source": [
        "model_evals = pd.DataFrame([model_0_eval,\n",
        "                            model_1_eval,\n",
        "                            model_2_eval])\n",
        "model_evals"
      ],
      "metadata": {
        "colab": {
          "base_uri": "https://localhost:8080/",
          "height": 143
        },
        "id": "5UXJ9Uqnn085",
        "outputId": "c4a13907-5cdf-4cf0-f47c-d34f38020989"
      },
      "execution_count": 31,
      "outputs": [
        {
          "output_type": "execute_result",
          "data": {
            "text/plain": [
              "      model class name  test loss  test accuracy\n",
              "0  FashionMNISTModelV0   0.478023       0.829373\n",
              "1  FashionMNISTModelV1   0.460072       0.838958\n",
              "2  FashionMNISTModelV2   0.319207       0.881390"
            ],
            "text/html": [
              "\n",
              "  <div id=\"df-0d10aa91-cec7-4047-a10b-2c79b4389957\">\n",
              "    <div class=\"colab-df-container\">\n",
              "      <div>\n",
              "<style scoped>\n",
              "    .dataframe tbody tr th:only-of-type {\n",
              "        vertical-align: middle;\n",
              "    }\n",
              "\n",
              "    .dataframe tbody tr th {\n",
              "        vertical-align: top;\n",
              "    }\n",
              "\n",
              "    .dataframe thead th {\n",
              "        text-align: right;\n",
              "    }\n",
              "</style>\n",
              "<table border=\"1\" class=\"dataframe\">\n",
              "  <thead>\n",
              "    <tr style=\"text-align: right;\">\n",
              "      <th></th>\n",
              "      <th>model class name</th>\n",
              "      <th>test loss</th>\n",
              "      <th>test accuracy</th>\n",
              "    </tr>\n",
              "  </thead>\n",
              "  <tbody>\n",
              "    <tr>\n",
              "      <th>0</th>\n",
              "      <td>FashionMNISTModelV0</td>\n",
              "      <td>0.478023</td>\n",
              "      <td>0.829373</td>\n",
              "    </tr>\n",
              "    <tr>\n",
              "      <th>1</th>\n",
              "      <td>FashionMNISTModelV1</td>\n",
              "      <td>0.460072</td>\n",
              "      <td>0.838958</td>\n",
              "    </tr>\n",
              "    <tr>\n",
              "      <th>2</th>\n",
              "      <td>FashionMNISTModelV2</td>\n",
              "      <td>0.319207</td>\n",
              "      <td>0.881390</td>\n",
              "    </tr>\n",
              "  </tbody>\n",
              "</table>\n",
              "</div>\n",
              "      <button class=\"colab-df-convert\" onclick=\"convertToInteractive('df-0d10aa91-cec7-4047-a10b-2c79b4389957')\"\n",
              "              title=\"Convert this dataframe to an interactive table.\"\n",
              "              style=\"display:none;\">\n",
              "        \n",
              "  <svg xmlns=\"http://www.w3.org/2000/svg\" height=\"24px\"viewBox=\"0 0 24 24\"\n",
              "       width=\"24px\">\n",
              "    <path d=\"M0 0h24v24H0V0z\" fill=\"none\"/>\n",
              "    <path d=\"M18.56 5.44l.94 2.06.94-2.06 2.06-.94-2.06-.94-.94-2.06-.94 2.06-2.06.94zm-11 1L8.5 8.5l.94-2.06 2.06-.94-2.06-.94L8.5 2.5l-.94 2.06-2.06.94zm10 10l.94 2.06.94-2.06 2.06-.94-2.06-.94-.94-2.06-.94 2.06-2.06.94z\"/><path d=\"M17.41 7.96l-1.37-1.37c-.4-.4-.92-.59-1.43-.59-.52 0-1.04.2-1.43.59L10.3 9.45l-7.72 7.72c-.78.78-.78 2.05 0 2.83L4 21.41c.39.39.9.59 1.41.59.51 0 1.02-.2 1.41-.59l7.78-7.78 2.81-2.81c.8-.78.8-2.07 0-2.86zM5.41 20L4 18.59l7.72-7.72 1.47 1.35L5.41 20z\"/>\n",
              "  </svg>\n",
              "      </button>\n",
              "      \n",
              "  <style>\n",
              "    .colab-df-container {\n",
              "      display:flex;\n",
              "      flex-wrap:wrap;\n",
              "      gap: 12px;\n",
              "    }\n",
              "\n",
              "    .colab-df-convert {\n",
              "      background-color: #E8F0FE;\n",
              "      border: none;\n",
              "      border-radius: 50%;\n",
              "      cursor: pointer;\n",
              "      display: none;\n",
              "      fill: #1967D2;\n",
              "      height: 32px;\n",
              "      padding: 0 0 0 0;\n",
              "      width: 32px;\n",
              "    }\n",
              "\n",
              "    .colab-df-convert:hover {\n",
              "      background-color: #E2EBFA;\n",
              "      box-shadow: 0px 1px 2px rgba(60, 64, 67, 0.3), 0px 1px 3px 1px rgba(60, 64, 67, 0.15);\n",
              "      fill: #174EA6;\n",
              "    }\n",
              "\n",
              "    [theme=dark] .colab-df-convert {\n",
              "      background-color: #3B4455;\n",
              "      fill: #D2E3FC;\n",
              "    }\n",
              "\n",
              "    [theme=dark] .colab-df-convert:hover {\n",
              "      background-color: #434B5C;\n",
              "      box-shadow: 0px 1px 3px 1px rgba(0, 0, 0, 0.15);\n",
              "      filter: drop-shadow(0px 1px 2px rgba(0, 0, 0, 0.3));\n",
              "      fill: #FFFFFF;\n",
              "    }\n",
              "  </style>\n",
              "\n",
              "      <script>\n",
              "        const buttonEl =\n",
              "          document.querySelector('#df-0d10aa91-cec7-4047-a10b-2c79b4389957 button.colab-df-convert');\n",
              "        buttonEl.style.display =\n",
              "          google.colab.kernel.accessAllowed ? 'block' : 'none';\n",
              "\n",
              "        async function convertToInteractive(key) {\n",
              "          const element = document.querySelector('#df-0d10aa91-cec7-4047-a10b-2c79b4389957');\n",
              "          const dataTable =\n",
              "            await google.colab.kernel.invokeFunction('convertToInteractive',\n",
              "                                                     [key], {});\n",
              "          if (!dataTable) return;\n",
              "\n",
              "          const docLinkHtml = 'Like what you see? Visit the ' +\n",
              "            '<a target=\"_blank\" href=https://colab.research.google.com/notebooks/data_table.ipynb>data table notebook</a>'\n",
              "            + ' to learn more about interactive tables.';\n",
              "          element.innerHTML = '';\n",
              "          dataTable['output_type'] = 'display_data';\n",
              "          await google.colab.output.renderOutput(dataTable, element);\n",
              "          const docLink = document.createElement('div');\n",
              "          docLink.innerHTML = docLinkHtml;\n",
              "          element.appendChild(docLink);\n",
              "        }\n",
              "      </script>\n",
              "    </div>\n",
              "  </div>\n",
              "  "
            ]
          },
          "metadata": {},
          "execution_count": 31
        }
      ]
    },
    {
      "cell_type": "markdown",
      "source": [
        "## 7.Saving and loading CNN model"
      ],
      "metadata": {
        "id": "7Oe-M2hYW7Fj"
      }
    },
    {
      "cell_type": "code",
      "source": [
        "from pathlib import Path\n",
        "model_path = Path('Computer_vision_model')\n",
        "model_path.mkdir(parents =True,\n",
        "                 exist_ok=True)\n",
        "model_name = \"PyTorch_model.pth\"\n",
        "model_file = model_path/model_name \n",
        "torch.save(obj=model_2.state_dict(),\n",
        "           f=model_file)"
      ],
      "metadata": {
        "id": "L3G7Rpu0rc-3"
      },
      "execution_count": 32,
      "outputs": []
    },
    {
      "cell_type": "code",
      "source": [
        "loaded_model = FashionMNISTModelV2(1,10,10)\n",
        "loaded_model.load_state_dict(torch.load(f=model_file))"
      ],
      "metadata": {
        "colab": {
          "base_uri": "https://localhost:8080/"
        },
        "id": "CX2cXOjfWb1U",
        "outputId": "78e0d85a-fa88-4daa-8a66-45ab3c26ab10"
      },
      "execution_count": 33,
      "outputs": [
        {
          "output_type": "execute_result",
          "data": {
            "text/plain": [
              "<All keys matched successfully>"
            ]
          },
          "metadata": {},
          "execution_count": 33
        }
      ]
    }
  ]
}